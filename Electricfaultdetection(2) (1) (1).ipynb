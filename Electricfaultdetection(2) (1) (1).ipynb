{
 "cells": [
  {
   "cell_type": "code",
   "execution_count": 1,
   "metadata": {
    "id": "YgrrXUhkG8jW"
   },
   "outputs": [],
   "source": [
    "#decision tree, KNN, Logistic Regression"
   ]
  },
  {
   "cell_type": "code",
   "execution_count": 1,
   "metadata": {
    "colab": {
     "base_uri": "https://localhost:8080/"
    },
    "id": "K4zX-eMq4jh7",
    "outputId": "c8097448-034d-40ae-ed54-73861fb87f04"
   },
   "outputs": [
    {
     "name": "stdout",
     "output_type": "stream",
     "text": [
      "Mounted at /content/drive\n"
     ]
    }
   ],
   "source": [
    "from google.colab import drive\n",
    "drive.mount('/content/drive')"
   ]
  },
  {
   "cell_type": "code",
   "execution_count": 2,
   "metadata": {
    "id": "f7w01cOc5ick"
   },
   "outputs": [],
   "source": [
    "import pandas as pd\n",
    "import numpy as np\n",
    "import matplotlib.pyplot as plt\n",
    "from sklearn.model_selection import train_test_split\n",
    "from sklearn.preprocessing import StandardScaler\n",
    "from sklearn.metrics import confusion_matrix, accuracy_score\n",
    "from sklearn.preprocessing import LabelEncoder\n",
    "from sklearn.compose import ColumnTransformer\n",
    "from sklearn.preprocessing import OneHotEncoder\n",
    "from keras.utils import np_utils\n",
    "from tensorflow.keras.layers import Dense\n",
    "from tensorflow.keras.models import Sequential\n",
    "from sklearn.metrics import accuracy_score,confusion_matrix,classification_report,f1_score, log_loss, precision_score, recall_score\n",
    "from sklearn.model_selection import cross_val_score"
   ]
  },
  {
   "cell_type": "code",
   "execution_count": 3,
   "metadata": {
    "id": "klL1wGa05vwG"
   },
   "outputs": [],
   "source": [
    "detectionData = pd.read_csv('/content/drive/MyDrive/detect_dataset.csv')"
   ]
  },
  {
   "cell_type": "code",
   "execution_count": 4,
   "metadata": {
    "colab": {
     "base_uri": "https://localhost:8080/",
     "height": 424
    },
    "id": "OrgkE2Ga68_w",
    "outputId": "b10aa96e-ecab-4c79-c6f8-5e8edf3a98cf"
   },
   "outputs": [
    {
     "data": {
      "text/html": [
       "\n",
       "  <div id=\"df-063ed79c-6cab-4c6e-ba2f-9e101ea92f8e\">\n",
       "    <div class=\"colab-df-container\">\n",
       "      <div>\n",
       "<style scoped>\n",
       "    .dataframe tbody tr th:only-of-type {\n",
       "        vertical-align: middle;\n",
       "    }\n",
       "\n",
       "    .dataframe tbody tr th {\n",
       "        vertical-align: top;\n",
       "    }\n",
       "\n",
       "    .dataframe thead th {\n",
       "        text-align: right;\n",
       "    }\n",
       "</style>\n",
       "<table border=\"1\" class=\"dataframe\">\n",
       "  <thead>\n",
       "    <tr style=\"text-align: right;\">\n",
       "      <th></th>\n",
       "      <th>Output (S)</th>\n",
       "      <th>Ia</th>\n",
       "      <th>Ib</th>\n",
       "      <th>Ic</th>\n",
       "      <th>Va</th>\n",
       "      <th>Vb</th>\n",
       "      <th>Vc</th>\n",
       "    </tr>\n",
       "  </thead>\n",
       "  <tbody>\n",
       "    <tr>\n",
       "      <th>0</th>\n",
       "      <td>0</td>\n",
       "      <td>-170.472196</td>\n",
       "      <td>9.219613</td>\n",
       "      <td>161.252583</td>\n",
       "      <td>0.054490</td>\n",
       "      <td>-0.659921</td>\n",
       "      <td>0.605431</td>\n",
       "    </tr>\n",
       "    <tr>\n",
       "      <th>1</th>\n",
       "      <td>0</td>\n",
       "      <td>-122.235754</td>\n",
       "      <td>6.168667</td>\n",
       "      <td>116.067087</td>\n",
       "      <td>0.102000</td>\n",
       "      <td>-0.628612</td>\n",
       "      <td>0.526202</td>\n",
       "    </tr>\n",
       "    <tr>\n",
       "      <th>2</th>\n",
       "      <td>0</td>\n",
       "      <td>-90.161474</td>\n",
       "      <td>3.813632</td>\n",
       "      <td>86.347841</td>\n",
       "      <td>0.141026</td>\n",
       "      <td>-0.605277</td>\n",
       "      <td>0.464251</td>\n",
       "    </tr>\n",
       "    <tr>\n",
       "      <th>3</th>\n",
       "      <td>0</td>\n",
       "      <td>-79.904916</td>\n",
       "      <td>2.398803</td>\n",
       "      <td>77.506112</td>\n",
       "      <td>0.156272</td>\n",
       "      <td>-0.602235</td>\n",
       "      <td>0.445963</td>\n",
       "    </tr>\n",
       "    <tr>\n",
       "      <th>4</th>\n",
       "      <td>0</td>\n",
       "      <td>-63.885255</td>\n",
       "      <td>0.590667</td>\n",
       "      <td>63.294587</td>\n",
       "      <td>0.180451</td>\n",
       "      <td>-0.591501</td>\n",
       "      <td>0.411050</td>\n",
       "    </tr>\n",
       "    <tr>\n",
       "      <th>...</th>\n",
       "      <td>...</td>\n",
       "      <td>...</td>\n",
       "      <td>...</td>\n",
       "      <td>...</td>\n",
       "      <td>...</td>\n",
       "      <td>...</td>\n",
       "      <td>...</td>\n",
       "    </tr>\n",
       "    <tr>\n",
       "      <th>11996</th>\n",
       "      <td>0</td>\n",
       "      <td>-66.237921</td>\n",
       "      <td>38.457041</td>\n",
       "      <td>24.912239</td>\n",
       "      <td>0.094421</td>\n",
       "      <td>-0.552019</td>\n",
       "      <td>0.457598</td>\n",
       "    </tr>\n",
       "    <tr>\n",
       "      <th>11997</th>\n",
       "      <td>0</td>\n",
       "      <td>-65.849493</td>\n",
       "      <td>37.465454</td>\n",
       "      <td>25.515675</td>\n",
       "      <td>0.103778</td>\n",
       "      <td>-0.555186</td>\n",
       "      <td>0.451407</td>\n",
       "    </tr>\n",
       "    <tr>\n",
       "      <th>11998</th>\n",
       "      <td>0</td>\n",
       "      <td>-65.446698</td>\n",
       "      <td>36.472055</td>\n",
       "      <td>26.106554</td>\n",
       "      <td>0.113107</td>\n",
       "      <td>-0.558211</td>\n",
       "      <td>0.445104</td>\n",
       "    </tr>\n",
       "    <tr>\n",
       "      <th>11999</th>\n",
       "      <td>0</td>\n",
       "      <td>-65.029633</td>\n",
       "      <td>35.477088</td>\n",
       "      <td>26.684731</td>\n",
       "      <td>0.122404</td>\n",
       "      <td>-0.561094</td>\n",
       "      <td>0.438690</td>\n",
       "    </tr>\n",
       "    <tr>\n",
       "      <th>12000</th>\n",
       "      <td>0</td>\n",
       "      <td>-64.598401</td>\n",
       "      <td>34.480799</td>\n",
       "      <td>27.250065</td>\n",
       "      <td>0.131669</td>\n",
       "      <td>-0.563835</td>\n",
       "      <td>0.432166</td>\n",
       "    </tr>\n",
       "  </tbody>\n",
       "</table>\n",
       "<p>12001 rows × 7 columns</p>\n",
       "</div>\n",
       "      <button class=\"colab-df-convert\" onclick=\"convertToInteractive('df-063ed79c-6cab-4c6e-ba2f-9e101ea92f8e')\"\n",
       "              title=\"Convert this dataframe to an interactive table.\"\n",
       "              style=\"display:none;\">\n",
       "        \n",
       "  <svg xmlns=\"http://www.w3.org/2000/svg\" height=\"24px\"viewBox=\"0 0 24 24\"\n",
       "       width=\"24px\">\n",
       "    <path d=\"M0 0h24v24H0V0z\" fill=\"none\"/>\n",
       "    <path d=\"M18.56 5.44l.94 2.06.94-2.06 2.06-.94-2.06-.94-.94-2.06-.94 2.06-2.06.94zm-11 1L8.5 8.5l.94-2.06 2.06-.94-2.06-.94L8.5 2.5l-.94 2.06-2.06.94zm10 10l.94 2.06.94-2.06 2.06-.94-2.06-.94-.94-2.06-.94 2.06-2.06.94z\"/><path d=\"M17.41 7.96l-1.37-1.37c-.4-.4-.92-.59-1.43-.59-.52 0-1.04.2-1.43.59L10.3 9.45l-7.72 7.72c-.78.78-.78 2.05 0 2.83L4 21.41c.39.39.9.59 1.41.59.51 0 1.02-.2 1.41-.59l7.78-7.78 2.81-2.81c.8-.78.8-2.07 0-2.86zM5.41 20L4 18.59l7.72-7.72 1.47 1.35L5.41 20z\"/>\n",
       "  </svg>\n",
       "      </button>\n",
       "      \n",
       "  <style>\n",
       "    .colab-df-container {\n",
       "      display:flex;\n",
       "      flex-wrap:wrap;\n",
       "      gap: 12px;\n",
       "    }\n",
       "\n",
       "    .colab-df-convert {\n",
       "      background-color: #E8F0FE;\n",
       "      border: none;\n",
       "      border-radius: 50%;\n",
       "      cursor: pointer;\n",
       "      display: none;\n",
       "      fill: #1967D2;\n",
       "      height: 32px;\n",
       "      padding: 0 0 0 0;\n",
       "      width: 32px;\n",
       "    }\n",
       "\n",
       "    .colab-df-convert:hover {\n",
       "      background-color: #E2EBFA;\n",
       "      box-shadow: 0px 1px 2px rgba(60, 64, 67, 0.3), 0px 1px 3px 1px rgba(60, 64, 67, 0.15);\n",
       "      fill: #174EA6;\n",
       "    }\n",
       "\n",
       "    [theme=dark] .colab-df-convert {\n",
       "      background-color: #3B4455;\n",
       "      fill: #D2E3FC;\n",
       "    }\n",
       "\n",
       "    [theme=dark] .colab-df-convert:hover {\n",
       "      background-color: #434B5C;\n",
       "      box-shadow: 0px 1px 3px 1px rgba(0, 0, 0, 0.15);\n",
       "      filter: drop-shadow(0px 1px 2px rgba(0, 0, 0, 0.3));\n",
       "      fill: #FFFFFF;\n",
       "    }\n",
       "  </style>\n",
       "\n",
       "      <script>\n",
       "        const buttonEl =\n",
       "          document.querySelector('#df-063ed79c-6cab-4c6e-ba2f-9e101ea92f8e button.colab-df-convert');\n",
       "        buttonEl.style.display =\n",
       "          google.colab.kernel.accessAllowed ? 'block' : 'none';\n",
       "\n",
       "        async function convertToInteractive(key) {\n",
       "          const element = document.querySelector('#df-063ed79c-6cab-4c6e-ba2f-9e101ea92f8e');\n",
       "          const dataTable =\n",
       "            await google.colab.kernel.invokeFunction('convertToInteractive',\n",
       "                                                     [key], {});\n",
       "          if (!dataTable) return;\n",
       "\n",
       "          const docLinkHtml = 'Like what you see? Visit the ' +\n",
       "            '<a target=\"_blank\" href=https://colab.research.google.com/notebooks/data_table.ipynb>data table notebook</a>'\n",
       "            + ' to learn more about interactive tables.';\n",
       "          element.innerHTML = '';\n",
       "          dataTable['output_type'] = 'display_data';\n",
       "          await google.colab.output.renderOutput(dataTable, element);\n",
       "          const docLink = document.createElement('div');\n",
       "          docLink.innerHTML = docLinkHtml;\n",
       "          element.appendChild(docLink);\n",
       "        }\n",
       "      </script>\n",
       "    </div>\n",
       "  </div>\n",
       "  "
      ],
      "text/plain": [
       "       Output (S)          Ia         Ib          Ic        Va        Vb  \\\n",
       "0               0 -170.472196   9.219613  161.252583  0.054490 -0.659921   \n",
       "1               0 -122.235754   6.168667  116.067087  0.102000 -0.628612   \n",
       "2               0  -90.161474   3.813632   86.347841  0.141026 -0.605277   \n",
       "3               0  -79.904916   2.398803   77.506112  0.156272 -0.602235   \n",
       "4               0  -63.885255   0.590667   63.294587  0.180451 -0.591501   \n",
       "...           ...         ...        ...         ...       ...       ...   \n",
       "11996           0  -66.237921  38.457041   24.912239  0.094421 -0.552019   \n",
       "11997           0  -65.849493  37.465454   25.515675  0.103778 -0.555186   \n",
       "11998           0  -65.446698  36.472055   26.106554  0.113107 -0.558211   \n",
       "11999           0  -65.029633  35.477088   26.684731  0.122404 -0.561094   \n",
       "12000           0  -64.598401  34.480799   27.250065  0.131669 -0.563835   \n",
       "\n",
       "             Vc  \n",
       "0      0.605431  \n",
       "1      0.526202  \n",
       "2      0.464251  \n",
       "3      0.445963  \n",
       "4      0.411050  \n",
       "...         ...  \n",
       "11996  0.457598  \n",
       "11997  0.451407  \n",
       "11998  0.445104  \n",
       "11999  0.438690  \n",
       "12000  0.432166  \n",
       "\n",
       "[12001 rows x 7 columns]"
      ]
     },
     "execution_count": 4,
     "metadata": {},
     "output_type": "execute_result"
    }
   ],
   "source": [
    "detectionData"
   ]
  },
  {
   "cell_type": "code",
   "execution_count": 5,
   "metadata": {
    "colab": {
     "base_uri": "https://localhost:8080/"
    },
    "id": "HRBxsLij8UkV",
    "outputId": "cc0c2ce4-0a09-428f-efdf-0e9ddb629022"
   },
   "outputs": [
    {
     "data": {
      "text/plain": [
       "0    6505\n",
       "1    5496\n",
       "Name: Output (S), dtype: int64"
      ]
     },
     "execution_count": 5,
     "metadata": {},
     "output_type": "execute_result"
    }
   ],
   "source": [
    "detectionData['Output (S)'].value_counts()"
   ]
  },
  {
   "cell_type": "code",
   "execution_count": 6,
   "metadata": {
    "id": "tOgA2DDd8zK_"
   },
   "outputs": [],
   "source": [
    "Xdetection = detectionData.iloc[:, 1:].values\n",
    "ydetection = detectionData.iloc[:, 0].values"
   ]
  },
  {
   "cell_type": "code",
   "execution_count": 7,
   "metadata": {
    "id": "GdofAy0v86I6"
   },
   "outputs": [],
   "source": [
    "Xd_train, Xd_test, yd_train, yd_test = train_test_split(Xdetection, ydetection, test_size = 0.2, random_state = 0)"
   ]
  },
  {
   "cell_type": "code",
   "execution_count": 8,
   "metadata": {
    "id": "z-idl7yp9ADs"
   },
   "outputs": [],
   "source": [
    "sc = StandardScaler()\n",
    "Xd_train = sc.fit_transform(Xd_train)\n",
    "Xd_test = sc.transform(Xd_test)"
   ]
  },
  {
   "cell_type": "code",
   "execution_count": 9,
   "metadata": {
    "id": "Pa68gMw1VmxO"
   },
   "outputs": [],
   "source": [
    "#logistic regression"
   ]
  },
  {
   "cell_type": "code",
   "execution_count": 10,
   "metadata": {
    "id": "G5HLgVkHVp5E"
   },
   "outputs": [],
   "source": [
    "from sklearn.linear_model import LogisticRegression \n",
    "from sklearn.ensemble import RandomForestClassifier\n",
    "from sklearn.neighbors import KNeighborsClassifier\n",
    "from sklearn.tree import DecisionTreeClassifier\n",
    "from sklearn.naive_bayes import GaussianNB\n",
    "from sklearn.svm import SVC"
   ]
  },
  {
   "cell_type": "code",
   "execution_count": 11,
   "metadata": {
    "id": "6bRiSHtgYq1B"
   },
   "outputs": [],
   "source": [
    "models = {\"Logistic Regression\": LogisticRegression(penalty='l2',solver='lbfgs', max_iter=1000),\n",
    "          \"decisionTree\":DecisionTreeClassifier(),\n",
    "          \"randomForest\":RandomForestClassifier(),\n",
    "          \"knn\":KNeighborsClassifier(),\n",
    "          \"svc\":SVC(kernel='linear',C=1)}"
   ]
  },
  {
   "cell_type": "code",
   "execution_count": 12,
   "metadata": {
    "id": "TNYRuKiuYvhb"
   },
   "outputs": [],
   "source": [
    "\n",
    "from sklearn.metrics import confusion_matrix, classification_report\n",
    "import seaborn as sns\n",
    "import matplotlib.pyplot as plt\n",
    "def ModelScore(modelDict, X_train,y_train,X_test,y_test):\n",
    "    final = {}\n",
    "    accuracy_list = []\n",
    "    log_loss_list = []\n",
    "    precision_score_list = []\n",
    "    recall_score_list = []\n",
    "    f1_score_list = []\n",
    "    scores=[]\n",
    "    for name, model in modelDict.items():\n",
    "        model.fit(X_train, y_train)\n",
    "        clf=model.fit(X_train, y_train)\n",
    "        pred = model.predict(X_test)\n",
    "        sns.heatmap(confusion_matrix(y_test, pred), annot = True,fmt = '.0f')\n",
    "        plt.show()\n",
    "        print(classification_report(y_test, pred))\n",
    "        accuracy_list.append(accuracy_score(y_test, pred))\n",
    "        precision_score_list.append(precision_score(y_test, pred,average='micro'))\n",
    "        recall_score_list.append(recall_score(y_test, pred,average='micro'))\n",
    "        f1_score_list.append(f1_score(y_test, pred,average='micro'))\n",
    "        scores.append(cross_val_score(clf, X_test, y_test, cv=5).mean())\n",
    "    return pd.DataFrame({\"Model\":modelDict.keys(),\n",
    "                        \"Accuracy\":accuracy_list,\n",
    "                        \"Precison\":precision_score_list,\n",
    "                        \"Recall\":recall_score_list,\n",
    "                        \"F1-Score\":f1_score_list,\n",
    "                        \" k-fold Cross Validation score k=5\":scores})"
   ]
  },
  {
   "cell_type": "code",
   "execution_count": 13,
   "metadata": {
    "colab": {
     "base_uri": "https://localhost:8080/",
     "height": 1000
    },
    "id": "D7V4IbO_Y1FC",
    "outputId": "41154789-c692-482a-c690-66c795a62b2d",
    "scrolled": false
   },
   "outputs": [
    {
     "data": {
      "image/png": "[encoded data removed]",
      "text/plain": [
       "<Figure size 432x288 with 2 Axes>"
      ]
     },
     "metadata": {
      "needs_background": "light"
     },
     "output_type": "display_data"
    },
    {
     "name": "stdout",
     "output_type": "stream",
     "text": [
      "              precision    recall  f1-score   support\n",
      "\n",
      "           0       0.68      1.00      0.81      1325\n",
      "           1       1.00      0.42      0.59      1076\n",
      "\n",
      "    accuracy                           0.74      2401\n",
      "   macro avg       0.84      0.71      0.70      2401\n",
      "weighted avg       0.82      0.74      0.71      2401\n",
      "\n"
     ]
    },
    {
     "data": {
      "image/png": "[encoded data removed]",
      "text/plain": [
       "<Figure size 432x288 with 2 Axes>"
      ]
     },
     "metadata": {
      "needs_background": "light"
     },
     "output_type": "display_data"
    },
    {
     "name": "stdout",
     "output_type": "stream",
     "text": [
      "              precision    recall  f1-score   support\n",
      "\n",
      "           0       0.99      1.00      0.99      1325\n",
      "           1       0.99      0.99      0.99      1076\n",
      "\n",
      "    accuracy                           0.99      2401\n",
      "   macro avg       0.99      0.99      0.99      2401\n",
      "weighted avg       0.99      0.99      0.99      2401\n",
      "\n"
     ]
    },
    {
     "data": {
      "image/png": "[encoded data removed]",
      "text/plain": [
       "<Figure size 432x288 with 2 Axes>"
      ]
     },
     "metadata": {
      "needs_background": "light"
     },
     "output_type": "display_data"
    },
    {
     "name": "stdout",
     "output_type": "stream",
     "text": [
      "              precision    recall  f1-score   support\n",
      "\n",
      "           0       0.99      1.00      0.99      1325\n",
      "           1       1.00      0.99      0.99      1076\n",
      "\n",
      "    accuracy                           0.99      2401\n",
      "   macro avg       0.99      0.99      0.99      2401\n",
      "weighted avg       0.99      0.99      0.99      2401\n",
      "\n"
     ]
    },
    {
     "data": {
      "image/png": "[encoded data removed]",
      "text/plain": [
       "<Figure size 432x288 with 2 Axes>"
      ]
     },
     "metadata": {
      "needs_background": "light"
     },
     "output_type": "display_data"
    },
    {
     "name": "stdout",
     "output_type": "stream",
     "text": [
      "              precision    recall  f1-score   support\n",
      "\n",
      "           0       0.99      1.00      0.99      1325\n",
      "           1       1.00      0.99      0.99      1076\n",
      "\n",
      "    accuracy                           0.99      2401\n",
      "   macro avg       0.99      0.99      0.99      2401\n",
      "weighted avg       0.99      0.99      0.99      2401\n",
      "\n"
     ]
    },
    {
     "data": {
      "image/png": "[encoded data removed]",
      "text/plain": [
       "<Figure size 432x288 with 2 Axes>"
      ]
     },
     "metadata": {
      "needs_background": "light"
     },
     "output_type": "display_data"
    },
    {
     "name": "stdout",
     "output_type": "stream",
     "text": [
      "              precision    recall  f1-score   support\n",
      "\n",
      "           0       0.67      1.00      0.80      1325\n",
      "           1       1.00      0.38      0.55      1076\n",
      "\n",
      "    accuracy                           0.72      2401\n",
      "   macro avg       0.83      0.69      0.68      2401\n",
      "weighted avg       0.82      0.72      0.69      2401\n",
      "\n"
     ]
    },
    {
     "data": {
      "text/html": [
       "\n",
       "  <div id=\"df-13a32fbc-e80e-4d14-9ae2-8a4bbf532b8a\">\n",
       "    <div class=\"colab-df-container\">\n",
       "      <div>\n",
       "<style scoped>\n",
       "    .dataframe tbody tr th:only-of-type {\n",
       "        vertical-align: middle;\n",
       "    }\n",
       "\n",
       "    .dataframe tbody tr th {\n",
       "        vertical-align: top;\n",
       "    }\n",
       "\n",
       "    .dataframe thead th {\n",
       "        text-align: right;\n",
       "    }\n",
       "</style>\n",
       "<table border=\"1\" class=\"dataframe\">\n",
       "  <thead>\n",
       "    <tr style=\"text-align: right;\">\n",
       "      <th></th>\n",
       "      <th>Model</th>\n",
       "      <th>Accuracy</th>\n",
       "      <th>Precison</th>\n",
       "      <th>Recall</th>\n",
       "      <th>F1-Score</th>\n",
       "      <th>k-fold Cross Validation score k=5</th>\n",
       "    </tr>\n",
       "  </thead>\n",
       "  <tbody>\n",
       "    <tr>\n",
       "      <th>0</th>\n",
       "      <td>Logistic Regression</td>\n",
       "      <td>0.739692</td>\n",
       "      <td>0.739692</td>\n",
       "      <td>0.739692</td>\n",
       "      <td>0.739692</td>\n",
       "      <td>0.704289</td>\n",
       "    </tr>\n",
       "    <tr>\n",
       "      <th>1</th>\n",
       "      <td>decisionTree</td>\n",
       "      <td>0.991254</td>\n",
       "      <td>0.991254</td>\n",
       "      <td>0.991254</td>\n",
       "      <td>0.991254</td>\n",
       "      <td>0.991670</td>\n",
       "    </tr>\n",
       "    <tr>\n",
       "      <th>2</th>\n",
       "      <td>randomForest</td>\n",
       "      <td>0.993336</td>\n",
       "      <td>0.993336</td>\n",
       "      <td>0.993336</td>\n",
       "      <td>0.993336</td>\n",
       "      <td>0.995835</td>\n",
       "    </tr>\n",
       "    <tr>\n",
       "      <th>3</th>\n",
       "      <td>knn</td>\n",
       "      <td>0.993753</td>\n",
       "      <td>0.993753</td>\n",
       "      <td>0.993753</td>\n",
       "      <td>0.993753</td>\n",
       "      <td>0.992087</td>\n",
       "    </tr>\n",
       "    <tr>\n",
       "      <th>4</th>\n",
       "      <td>svc</td>\n",
       "      <td>0.723865</td>\n",
       "      <td>0.723865</td>\n",
       "      <td>0.723865</td>\n",
       "      <td>0.723865</td>\n",
       "      <td>0.700129</td>\n",
       "    </tr>\n",
       "  </tbody>\n",
       "</table>\n",
       "</div>\n",
       "      <button class=\"colab-df-convert\" onclick=\"convertToInteractive('df-13a32fbc-e80e-4d14-9ae2-8a4bbf532b8a')\"\n",
       "              title=\"Convert this dataframe to an interactive table.\"\n",
       "              style=\"display:none;\">\n",
       "        \n",
       "  <svg xmlns=\"http://www.w3.org/2000/svg\" height=\"24px\"viewBox=\"0 0 24 24\"\n",
       "       width=\"24px\">\n",
       "    <path d=\"M0 0h24v24H0V0z\" fill=\"none\"/>\n",
       "    <path d=\"M18.56 5.44l.94 2.06.94-2.06 2.06-.94-2.06-.94-.94-2.06-.94 2.06-2.06.94zm-11 1L8.5 8.5l.94-2.06 2.06-.94-2.06-.94L8.5 2.5l-.94 2.06-2.06.94zm10 10l.94 2.06.94-2.06 2.06-.94-2.06-.94-.94-2.06-.94 2.06-2.06.94z\"/><path d=\"M17.41 7.96l-1.37-1.37c-.4-.4-.92-.59-1.43-.59-.52 0-1.04.2-1.43.59L10.3 9.45l-7.72 7.72c-.78.78-.78 2.05 0 2.83L4 21.41c.39.39.9.59 1.41.59.51 0 1.02-.2 1.41-.59l7.78-7.78 2.81-2.81c.8-.78.8-2.07 0-2.86zM5.41 20L4 18.59l7.72-7.72 1.47 1.35L5.41 20z\"/>\n",
       "  </svg>\n",
       "      </button>\n",
       "      \n",
       "  <style>\n",
       "    .colab-df-container {\n",
       "      display:flex;\n",
       "      flex-wrap:wrap;\n",
       "      gap: 12px;\n",
       "    }\n",
       "\n",
       "    .colab-df-convert {\n",
       "      background-color: #E8F0FE;\n",
       "      border: none;\n",
       "      border-radius: 50%;\n",
       "      cursor: pointer;\n",
       "      display: none;\n",
       "      fill: #1967D2;\n",
       "      height: 32px;\n",
       "      padding: 0 0 0 0;\n",
       "      width: 32px;\n",
       "    }\n",
       "\n",
       "    .colab-df-convert:hover {\n",
       "      background-color: #E2EBFA;\n",
       "      box-shadow: 0px 1px 2px rgba(60, 64, 67, 0.3), 0px 1px 3px 1px rgba(60, 64, 67, 0.15);\n",
       "      fill: #174EA6;\n",
       "    }\n",
       "\n",
       "    [theme=dark] .colab-df-convert {\n",
       "      background-color: #3B4455;\n",
       "      fill: #D2E3FC;\n",
       "    }\n",
       "\n",
       "    [theme=dark] .colab-df-convert:hover {\n",
       "      background-color: #434B5C;\n",
       "      box-shadow: 0px 1px 3px 1px rgba(0, 0, 0, 0.15);\n",
       "      filter: drop-shadow(0px 1px 2px rgba(0, 0, 0, 0.3));\n",
       "      fill: #FFFFFF;\n",
       "    }\n",
       "  </style>\n",
       "\n",
       "      <script>\n",
       "        const buttonEl =\n",
       "          document.querySelector('#df-13a32fbc-e80e-4d14-9ae2-8a4bbf532b8a button.colab-df-convert');\n",
       "        buttonEl.style.display =\n",
       "          google.colab.kernel.accessAllowed ? 'block' : 'none';\n",
       "\n",
       "        async function convertToInteractive(key) {\n",
       "          const element = document.querySelector('#df-13a32fbc-e80e-4d14-9ae2-8a4bbf532b8a');\n",
       "          const dataTable =\n",
       "            await google.colab.kernel.invokeFunction('convertToInteractive',\n",
       "                                                     [key], {});\n",
       "          if (!dataTable) return;\n",
       "\n",
       "          const docLinkHtml = 'Like what you see? Visit the ' +\n",
       "            '<a target=\"_blank\" href=https://colab.research.google.com/notebooks/data_table.ipynb>data table notebook</a>'\n",
       "            + ' to learn more about interactive tables.';\n",
       "          element.innerHTML = '';\n",
       "          dataTable['output_type'] = 'display_data';\n",
       "          await google.colab.output.renderOutput(dataTable, element);\n",
       "          const docLink = document.createElement('div');\n",
       "          docLink.innerHTML = docLinkHtml;\n",
       "          element.appendChild(docLink);\n",
       "        }\n",
       "      </script>\n",
       "    </div>\n",
       "  </div>\n",
       "  "
      ],
      "text/plain": [
       "                 Model  Accuracy  Precison    Recall  F1-Score  \\\n",
       "0  Logistic Regression  0.739692  0.739692  0.739692  0.739692   \n",
       "1         decisionTree  0.991254  0.991254  0.991254  0.991254   \n",
       "2         randomForest  0.993336  0.993336  0.993336  0.993336   \n",
       "3                  knn  0.993753  0.993753  0.993753  0.993753   \n",
       "4                  svc  0.723865  0.723865  0.723865  0.723865   \n",
       "\n",
       "    k-fold Cross Validation score k=5  \n",
       "0                            0.704289  \n",
       "1                            0.991670  \n",
       "2                            0.995835  \n",
       "3                            0.992087  \n",
       "4                            0.700129  "
      ]
     },
     "execution_count": 13,
     "metadata": {},
     "output_type": "execute_result"
    }
   ],
   "source": [
    "ModelScore(models,Xd_train,yd_train ,Xd_test,yd_test)"
   ]
  },
  {
   "cell_type": "code",
   "execution_count": 14,
   "metadata": {
    "id": "f-ksXz9v9J7S"
   },
   "outputs": [],
   "source": [
    "#ANN Model"
   ]
  },
  {
   "cell_type": "code",
   "execution_count": 15,
   "metadata": {
    "id": "YCQVzbD99PLh"
   },
   "outputs": [],
   "source": [
    "detectionANN = Sequential()\n",
    "detectionANN.add(Dense(units=6, activation='relu'))\n",
    "detectionANN.add(Dense(units=6, activation='relu'))\n",
    "detectionANN.add(Dense(units=1, activation='sigmoid'))\n",
    "detectionANN.compile(optimizer = 'adam', loss = 'binary_crossentropy', metrics = ['accuracy'])"
   ]
  },
  {
   "cell_type": "code",
   "execution_count": 16,
   "metadata": {
    "colab": {
     "base_uri": "https://localhost:8080/"
    },
    "id": "2zPlFOlr9aEt",
    "outputId": "6b6ea4ea-e5b2-41af-a175-77974560288a"
   },
   "outputs": [
    {
     "name": "stdout",
     "output_type": "stream",
     "text": [
      "Epoch 1/100\n",
      "300/300 [==============================] - 1s 2ms/step - loss: 0.5107 - accuracy: 0.8192\n",
      "Epoch 2/100\n",
      "300/300 [==============================] - 1s 2ms/step - loss: 0.2064 - accuracy: 0.9539\n",
      "Epoch 3/100\n",
      "300/300 [==============================] - 1s 2ms/step - loss: 0.1046 - accuracy: 0.9729\n",
      "Epoch 4/100\n",
      "300/300 [==============================] - 1s 2ms/step - loss: 0.0728 - accuracy: 0.9794\n",
      "Epoch 5/100\n",
      "300/300 [==============================] - 1s 2ms/step - loss: 0.0582 - accuracy: 0.9820\n",
      "Epoch 6/100\n",
      "300/300 [==============================] - 1s 2ms/step - loss: 0.0494 - accuracy: 0.9846\n",
      "Epoch 7/100\n",
      "300/300 [==============================] - 1s 2ms/step - loss: 0.0441 - accuracy: 0.9859\n",
      "Epoch 8/100\n",
      "300/300 [==============================] - 1s 2ms/step - loss: 0.0399 - accuracy: 0.9878\n",
      "Epoch 9/100\n",
      "300/300 [==============================] - 1s 2ms/step - loss: 0.0371 - accuracy: 0.9886\n",
      "Epoch 10/100\n",
      "300/300 [==============================] - 1s 2ms/step - loss: 0.0351 - accuracy: 0.9891\n",
      "Epoch 11/100\n",
      "300/300 [==============================] - 1s 2ms/step - loss: 0.0335 - accuracy: 0.9895\n",
      "Epoch 12/100\n",
      "300/300 [==============================] - 1s 2ms/step - loss: 0.0321 - accuracy: 0.9900\n",
      "Epoch 13/100\n",
      "300/300 [==============================] - 1s 2ms/step - loss: 0.0311 - accuracy: 0.9901\n",
      "Epoch 14/100\n",
      "300/300 [==============================] - 1s 2ms/step - loss: 0.0305 - accuracy: 0.9900\n",
      "Epoch 15/100\n",
      "300/300 [==============================] - 1s 2ms/step - loss: 0.0291 - accuracy: 0.9903\n",
      "Epoch 16/100\n",
      "300/300 [==============================] - 1s 2ms/step - loss: 0.0286 - accuracy: 0.9907\n",
      "Epoch 17/100\n",
      "300/300 [==============================] - 1s 2ms/step - loss: 0.0282 - accuracy: 0.9910\n",
      "Epoch 18/100\n",
      "300/300 [==============================] - 1s 2ms/step - loss: 0.0276 - accuracy: 0.9908\n",
      "Epoch 19/100\n",
      "300/300 [==============================] - 1s 2ms/step - loss: 0.0271 - accuracy: 0.9910\n",
      "Epoch 20/100\n",
      "300/300 [==============================] - 1s 2ms/step - loss: 0.0267 - accuracy: 0.9912\n",
      "Epoch 21/100\n",
      "300/300 [==============================] - 1s 2ms/step - loss: 0.0263 - accuracy: 0.9915\n",
      "Epoch 22/100\n",
      "300/300 [==============================] - 1s 2ms/step - loss: 0.0259 - accuracy: 0.9919\n",
      "Epoch 23/100\n",
      "300/300 [==============================] - 1s 2ms/step - loss: 0.0256 - accuracy: 0.9916\n",
      "Epoch 24/100\n",
      "300/300 [==============================] - 1s 2ms/step - loss: 0.0251 - accuracy: 0.9917\n",
      "Epoch 25/100\n",
      "300/300 [==============================] - 1s 2ms/step - loss: 0.0250 - accuracy: 0.9917\n",
      "Epoch 26/100\n",
      "300/300 [==============================] - 1s 2ms/step - loss: 0.0244 - accuracy: 0.9919\n",
      "Epoch 27/100\n",
      "300/300 [==============================] - 1s 2ms/step - loss: 0.0238 - accuracy: 0.9922\n",
      "Epoch 28/100\n",
      "300/300 [==============================] - 1s 2ms/step - loss: 0.0238 - accuracy: 0.9917\n",
      "Epoch 29/100\n",
      "300/300 [==============================] - 1s 2ms/step - loss: 0.0230 - accuracy: 0.9926\n",
      "Epoch 30/100\n",
      "300/300 [==============================] - 1s 2ms/step - loss: 0.0232 - accuracy: 0.9922\n",
      "Epoch 31/100\n",
      "300/300 [==============================] - 1s 2ms/step - loss: 0.0227 - accuracy: 0.9921\n",
      "Epoch 32/100\n",
      "300/300 [==============================] - 1s 2ms/step - loss: 0.0224 - accuracy: 0.9925\n",
      "Epoch 33/100\n",
      "300/300 [==============================] - 1s 2ms/step - loss: 0.0221 - accuracy: 0.9924\n",
      "Epoch 34/100\n",
      "300/300 [==============================] - 1s 2ms/step - loss: 0.0218 - accuracy: 0.9926\n",
      "Epoch 35/100\n",
      "300/300 [==============================] - 1s 2ms/step - loss: 0.0214 - accuracy: 0.9927\n",
      "Epoch 36/100\n",
      "300/300 [==============================] - 1s 2ms/step - loss: 0.0212 - accuracy: 0.9928\n",
      "Epoch 37/100\n",
      "300/300 [==============================] - 1s 2ms/step - loss: 0.0207 - accuracy: 0.9925\n",
      "Epoch 38/100\n",
      "300/300 [==============================] - 1s 2ms/step - loss: 0.0202 - accuracy: 0.9929\n",
      "Epoch 39/100\n",
      "300/300 [==============================] - 1s 2ms/step - loss: 0.0201 - accuracy: 0.9926\n",
      "Epoch 40/100\n",
      "300/300 [==============================] - 1s 2ms/step - loss: 0.0200 - accuracy: 0.9927\n",
      "Epoch 41/100\n",
      "300/300 [==============================] - 1s 2ms/step - loss: 0.0197 - accuracy: 0.9931\n",
      "Epoch 42/100\n",
      "300/300 [==============================] - 1s 2ms/step - loss: 0.0191 - accuracy: 0.9934\n",
      "Epoch 43/100\n",
      "300/300 [==============================] - 1s 2ms/step - loss: 0.0188 - accuracy: 0.9927\n",
      "Epoch 44/100\n",
      "300/300 [==============================] - 1s 2ms/step - loss: 0.0190 - accuracy: 0.9932\n",
      "Epoch 45/100\n",
      "300/300 [==============================] - 1s 2ms/step - loss: 0.0184 - accuracy: 0.9929\n",
      "Epoch 46/100\n",
      "300/300 [==============================] - 1s 2ms/step - loss: 0.0180 - accuracy: 0.9932\n",
      "Epoch 47/100\n",
      "300/300 [==============================] - 1s 2ms/step - loss: 0.0180 - accuracy: 0.9935\n",
      "Epoch 48/100\n",
      "300/300 [==============================] - 1s 2ms/step - loss: 0.0177 - accuracy: 0.9934\n",
      "Epoch 49/100\n",
      "300/300 [==============================] - 1s 2ms/step - loss: 0.0172 - accuracy: 0.9935\n",
      "Epoch 50/100\n",
      "300/300 [==============================] - 1s 2ms/step - loss: 0.0171 - accuracy: 0.9931\n",
      "Epoch 51/100\n",
      "300/300 [==============================] - 1s 2ms/step - loss: 0.0168 - accuracy: 0.9934\n",
      "Epoch 52/100\n",
      "300/300 [==============================] - 1s 2ms/step - loss: 0.0165 - accuracy: 0.9940\n",
      "Epoch 53/100\n",
      "300/300 [==============================] - 1s 2ms/step - loss: 0.0155 - accuracy: 0.9940\n",
      "Epoch 54/100\n",
      "300/300 [==============================] - 1s 2ms/step - loss: 0.0166 - accuracy: 0.9936\n",
      "Epoch 55/100\n",
      "300/300 [==============================] - 1s 2ms/step - loss: 0.0158 - accuracy: 0.9934\n",
      "Epoch 56/100\n",
      "300/300 [==============================] - 1s 4ms/step - loss: 0.0158 - accuracy: 0.9939\n",
      "Epoch 57/100\n",
      "300/300 [==============================] - 1s 3ms/step - loss: 0.0156 - accuracy: 0.9941\n",
      "Epoch 58/100\n",
      "300/300 [==============================] - 1s 3ms/step - loss: 0.0157 - accuracy: 0.9937\n",
      "Epoch 59/100\n",
      "300/300 [==============================] - 1s 3ms/step - loss: 0.0155 - accuracy: 0.9937\n",
      "Epoch 60/100\n",
      "300/300 [==============================] - 1s 2ms/step - loss: 0.0153 - accuracy: 0.9935\n",
      "Epoch 61/100\n",
      "300/300 [==============================] - 1s 2ms/step - loss: 0.0145 - accuracy: 0.9947\n",
      "Epoch 62/100\n",
      "300/300 [==============================] - 1s 2ms/step - loss: 0.0148 - accuracy: 0.9939\n",
      "Epoch 63/100\n",
      "300/300 [==============================] - 1s 2ms/step - loss: 0.0148 - accuracy: 0.9939\n",
      "Epoch 64/100\n",
      "300/300 [==============================] - 1s 2ms/step - loss: 0.0146 - accuracy: 0.9940\n",
      "Epoch 65/100\n",
      "300/300 [==============================] - 1s 2ms/step - loss: 0.0143 - accuracy: 0.9942\n",
      "Epoch 66/100\n",
      "300/300 [==============================] - 1s 2ms/step - loss: 0.0147 - accuracy: 0.9936\n",
      "Epoch 67/100\n",
      "300/300 [==============================] - 1s 2ms/step - loss: 0.0144 - accuracy: 0.9943\n",
      "Epoch 68/100\n",
      "300/300 [==============================] - 1s 2ms/step - loss: 0.0139 - accuracy: 0.9942\n",
      "Epoch 69/100\n",
      "300/300 [==============================] - 1s 2ms/step - loss: 0.0139 - accuracy: 0.9946\n",
      "Epoch 70/100\n",
      "300/300 [==============================] - 1s 2ms/step - loss: 0.0139 - accuracy: 0.9936\n",
      "Epoch 71/100\n",
      "300/300 [==============================] - 1s 2ms/step - loss: 0.0136 - accuracy: 0.9945\n",
      "Epoch 72/100\n",
      "300/300 [==============================] - 1s 2ms/step - loss: 0.0133 - accuracy: 0.9940\n",
      "Epoch 73/100\n",
      "300/300 [==============================] - 1s 2ms/step - loss: 0.0130 - accuracy: 0.9947\n",
      "Epoch 74/100\n",
      "300/300 [==============================] - 1s 2ms/step - loss: 0.0138 - accuracy: 0.9944\n",
      "Epoch 75/100\n",
      "300/300 [==============================] - 1s 2ms/step - loss: 0.0136 - accuracy: 0.9947\n",
      "Epoch 76/100\n",
      "300/300 [==============================] - 1s 2ms/step - loss: 0.0134 - accuracy: 0.9942\n",
      "Epoch 77/100\n",
      "300/300 [==============================] - 1s 2ms/step - loss: 0.0132 - accuracy: 0.9940\n",
      "Epoch 78/100\n",
      "300/300 [==============================] - 1s 2ms/step - loss: 0.0127 - accuracy: 0.9948\n",
      "Epoch 79/100\n",
      "300/300 [==============================] - 1s 2ms/step - loss: 0.0129 - accuracy: 0.9949\n",
      "Epoch 80/100\n",
      "300/300 [==============================] - 1s 2ms/step - loss: 0.0130 - accuracy: 0.9942\n",
      "Epoch 81/100\n",
      "300/300 [==============================] - 1s 2ms/step - loss: 0.0133 - accuracy: 0.9945\n",
      "Epoch 82/100\n",
      "300/300 [==============================] - 1s 2ms/step - loss: 0.0122 - accuracy: 0.9952\n",
      "Epoch 83/100\n",
      "300/300 [==============================] - 1s 2ms/step - loss: 0.0125 - accuracy: 0.9948\n",
      "Epoch 84/100\n",
      "300/300 [==============================] - 1s 2ms/step - loss: 0.0123 - accuracy: 0.9952\n",
      "Epoch 85/100\n",
      "300/300 [==============================] - 1s 2ms/step - loss: 0.0123 - accuracy: 0.9951\n",
      "Epoch 86/100\n",
      "300/300 [==============================] - 1s 2ms/step - loss: 0.0124 - accuracy: 0.9948\n",
      "Epoch 87/100\n",
      "300/300 [==============================] - 1s 2ms/step - loss: 0.0122 - accuracy: 0.9947\n",
      "Epoch 88/100\n",
      "300/300 [==============================] - 1s 2ms/step - loss: 0.0121 - accuracy: 0.9950\n",
      "Epoch 89/100\n",
      "300/300 [==============================] - 1s 2ms/step - loss: 0.0120 - accuracy: 0.9947\n",
      "Epoch 90/100\n",
      "300/300 [==============================] - 1s 2ms/step - loss: 0.0119 - accuracy: 0.9953\n",
      "Epoch 91/100\n",
      "300/300 [==============================] - 1s 2ms/step - loss: 0.0122 - accuracy: 0.9953\n",
      "Epoch 92/100\n",
      "300/300 [==============================] - 1s 2ms/step - loss: 0.0120 - accuracy: 0.9951\n",
      "Epoch 93/100\n",
      "300/300 [==============================] - 1s 2ms/step - loss: 0.0120 - accuracy: 0.9948\n",
      "Epoch 94/100\n",
      "300/300 [==============================] - 1s 2ms/step - loss: 0.0116 - accuracy: 0.9954\n",
      "Epoch 95/100\n",
      "300/300 [==============================] - 1s 2ms/step - loss: 0.0114 - accuracy: 0.9956\n",
      "Epoch 96/100\n",
      "300/300 [==============================] - 1s 2ms/step - loss: 0.0111 - accuracy: 0.9954\n",
      "Epoch 97/100\n",
      "300/300 [==============================] - 1s 2ms/step - loss: 0.0111 - accuracy: 0.9949\n",
      "Epoch 98/100\n",
      "300/300 [==============================] - 1s 2ms/step - loss: 0.0109 - accuracy: 0.9955\n",
      "Epoch 99/100\n",
      "300/300 [==============================] - 1s 2ms/step - loss: 0.0111 - accuracy: 0.9953\n",
      "Epoch 100/100\n",
      "300/300 [==============================] - 1s 2ms/step - loss: 0.0110 - accuracy: 0.9955\n"
     ]
    },
    {
     "data": {
      "text/plain": [
       "<keras.callbacks.History at 0x7ffb62b20610>"
      ]
     },
     "execution_count": 16,
     "metadata": {},
     "output_type": "execute_result"
    }
   ],
   "source": [
    "detectionANN.fit(Xd_train, yd_train, batch_size = 32, epochs = 100)"
   ]
  },
  {
   "cell_type": "code",
   "execution_count": 17,
   "metadata": {
    "colab": {
     "base_uri": "https://localhost:8080/"
    },
    "id": "YsN2-AXM9cPH",
    "outputId": "bb79fda2-6ad0-46b1-fc86-c81ef2d80eaa"
   },
   "outputs": [
    {
     "name": "stdout",
     "output_type": "stream",
     "text": [
      "76/76 [==============================] - 0s 1ms/step\n",
      "[[1 1]\n",
      " [0 0]\n",
      " [0 0]\n",
      " ...\n",
      " [0 0]\n",
      " [0 0]\n",
      " [0 1]]\n"
     ]
    }
   ],
   "source": [
    "#Results\n",
    "\n",
    "yd_pred = detectionANN.predict(Xd_test)\n",
    "yd_pred = (yd_pred > 0.5)\n",
    "print(np.concatenate((yd_pred.reshape(len(yd_pred),1), yd_test.reshape(len(yd_test),1)),1))"
   ]
  },
  {
   "cell_type": "code",
   "execution_count": 18,
   "metadata": {
    "colab": {
     "base_uri": "https://localhost:8080/",
     "height": 421
    },
    "id": "cZPSOiHe-Sx2",
    "outputId": "e1a257f8-cd0d-40eb-a987-279911392441"
   },
   "outputs": [
    {
     "data": {
      "image/png": "[encoded data removed]",
      "text/plain": [
       "<Figure size 432x288 with 2 Axes>"
      ]
     },
     "metadata": {
      "needs_background": "light"
     },
     "output_type": "display_data"
    },
    {
     "name": "stdout",
     "output_type": "stream",
     "text": [
      "              precision    recall  f1-score   support\n",
      "\n",
      "           0       0.98      1.00      0.99      1325\n",
      "           1       1.00      0.97      0.99      1076\n",
      "\n",
      "    accuracy                           0.99      2401\n",
      "   macro avg       0.99      0.99      0.99      2401\n",
      "weighted avg       0.99      0.99      0.99      2401\n",
      "\n"
     ]
    }
   ],
   "source": [
    "sns.heatmap(confusion_matrix(yd_test, yd_pred), annot = True,fmt = '.0f')\n",
    "plt.show()\n",
    "print(classification_report(yd_test, yd_pred))"
   ]
  },
  {
   "cell_type": "code",
   "execution_count": 19,
   "metadata": {
    "id": "liLjYAql95E9"
   },
   "outputs": [],
   "source": [
    "#Fault Classification\n",
    "#Data Preprocessing"
   ]
  },
  {
   "cell_type": "code",
   "execution_count": 95,
   "metadata": {
    "id": "Dpg-g5Da9-YX"
   },
   "outputs": [],
   "source": [
    "classData = pd.read_csv('/content/drive/MyDrive/classData.csv')"
   ]
  },
  {
   "cell_type": "code",
   "execution_count": 96,
   "metadata": {
    "colab": {
     "base_uri": "https://localhost:8080/"
    },
    "id": "36h1w9sg_u_7",
    "outputId": "57e351e2-52f9-41f4-c7c7-6604e23219f0"
   },
   "outputs": [
    {
     "data": {
      "text/plain": [
       "(7861, 10)"
      ]
     },
     "execution_count": 96,
     "metadata": {},
     "output_type": "execute_result"
    }
   ],
   "source": [
    "classData.shape"
   ]
  },
  {
   "cell_type": "code",
   "execution_count": 97,
   "metadata": {
    "colab": {
     "base_uri": "https://localhost:8080/",
     "height": 206
    },
    "id": "BKHitvvO_3yD",
    "outputId": "86c15c9e-77bc-425d-e000-c8fabcdb177c"
   },
   "outputs": [
    {
     "data": {
      "text/html": [
       "\n",
       "  <div id=\"df-a7c9f18d-37a8-46a8-8bee-ed3a4c067a4c\">\n",
       "    <div class=\"colab-df-container\">\n",
       "      <div>\n",
       "<style scoped>\n",
       "    .dataframe tbody tr th:only-of-type {\n",
       "        vertical-align: middle;\n",
       "    }\n",
       "\n",
       "    .dataframe tbody tr th {\n",
       "        vertical-align: top;\n",
       "    }\n",
       "\n",
       "    .dataframe thead th {\n",
       "        text-align: right;\n",
       "    }\n",
       "</style>\n",
       "<table border=\"1\" class=\"dataframe\">\n",
       "  <thead>\n",
       "    <tr style=\"text-align: right;\">\n",
       "      <th></th>\n",
       "      <th>G</th>\n",
       "      <th>C</th>\n",
       "      <th>B</th>\n",
       "      <th>A</th>\n",
       "      <th>Ia</th>\n",
       "      <th>Ib</th>\n",
       "      <th>Ic</th>\n",
       "      <th>Va</th>\n",
       "      <th>Vb</th>\n",
       "      <th>Vc</th>\n",
       "    </tr>\n",
       "  </thead>\n",
       "  <tbody>\n",
       "    <tr>\n",
       "      <th>0</th>\n",
       "      <td>1</td>\n",
       "      <td>0</td>\n",
       "      <td>0</td>\n",
       "      <td>1</td>\n",
       "      <td>-151.291812</td>\n",
       "      <td>-9.677452</td>\n",
       "      <td>85.800162</td>\n",
       "      <td>0.400750</td>\n",
       "      <td>-0.132935</td>\n",
       "      <td>-0.267815</td>\n",
       "    </tr>\n",
       "    <tr>\n",
       "      <th>1</th>\n",
       "      <td>1</td>\n",
       "      <td>0</td>\n",
       "      <td>0</td>\n",
       "      <td>1</td>\n",
       "      <td>-336.186183</td>\n",
       "      <td>-76.283262</td>\n",
       "      <td>18.328897</td>\n",
       "      <td>0.312732</td>\n",
       "      <td>-0.123633</td>\n",
       "      <td>-0.189099</td>\n",
       "    </tr>\n",
       "    <tr>\n",
       "      <th>2</th>\n",
       "      <td>1</td>\n",
       "      <td>0</td>\n",
       "      <td>0</td>\n",
       "      <td>1</td>\n",
       "      <td>-502.891583</td>\n",
       "      <td>-174.648023</td>\n",
       "      <td>-80.924663</td>\n",
       "      <td>0.265728</td>\n",
       "      <td>-0.114301</td>\n",
       "      <td>-0.151428</td>\n",
       "    </tr>\n",
       "    <tr>\n",
       "      <th>3</th>\n",
       "      <td>1</td>\n",
       "      <td>0</td>\n",
       "      <td>0</td>\n",
       "      <td>1</td>\n",
       "      <td>-593.941905</td>\n",
       "      <td>-217.703359</td>\n",
       "      <td>-124.891924</td>\n",
       "      <td>0.235511</td>\n",
       "      <td>-0.104940</td>\n",
       "      <td>-0.130570</td>\n",
       "    </tr>\n",
       "    <tr>\n",
       "      <th>4</th>\n",
       "      <td>1</td>\n",
       "      <td>0</td>\n",
       "      <td>0</td>\n",
       "      <td>1</td>\n",
       "      <td>-643.663617</td>\n",
       "      <td>-224.159427</td>\n",
       "      <td>-132.282815</td>\n",
       "      <td>0.209537</td>\n",
       "      <td>-0.095554</td>\n",
       "      <td>-0.113983</td>\n",
       "    </tr>\n",
       "  </tbody>\n",
       "</table>\n",
       "</div>\n",
       "      <button class=\"colab-df-convert\" onclick=\"convertToInteractive('df-a7c9f18d-37a8-46a8-8bee-ed3a4c067a4c')\"\n",
       "              title=\"Convert this dataframe to an interactive table.\"\n",
       "              style=\"display:none;\">\n",
       "        \n",
       "  <svg xmlns=\"http://www.w3.org/2000/svg\" height=\"24px\"viewBox=\"0 0 24 24\"\n",
       "       width=\"24px\">\n",
       "    <path d=\"M0 0h24v24H0V0z\" fill=\"none\"/>\n",
       "    <path d=\"M18.56 5.44l.94 2.06.94-2.06 2.06-.94-2.06-.94-.94-2.06-.94 2.06-2.06.94zm-11 1L8.5 8.5l.94-2.06 2.06-.94-2.06-.94L8.5 2.5l-.94 2.06-2.06.94zm10 10l.94 2.06.94-2.06 2.06-.94-2.06-.94-.94-2.06-.94 2.06-2.06.94z\"/><path d=\"M17.41 7.96l-1.37-1.37c-.4-.4-.92-.59-1.43-.59-.52 0-1.04.2-1.43.59L10.3 9.45l-7.72 7.72c-.78.78-.78 2.05 0 2.83L4 21.41c.39.39.9.59 1.41.59.51 0 1.02-.2 1.41-.59l7.78-7.78 2.81-2.81c.8-.78.8-2.07 0-2.86zM5.41 20L4 18.59l7.72-7.72 1.47 1.35L5.41 20z\"/>\n",
       "  </svg>\n",
       "      </button>\n",
       "      \n",
       "  <style>\n",
       "    .colab-df-container {\n",
       "      display:flex;\n",
       "      flex-wrap:wrap;\n",
       "      gap: 12px;\n",
       "    }\n",
       "\n",
       "    .colab-df-convert {\n",
       "      background-color: #E8F0FE;\n",
       "      border: none;\n",
       "      border-radius: 50%;\n",
       "      cursor: pointer;\n",
       "      display: none;\n",
       "      fill: #1967D2;\n",
       "      height: 32px;\n",
       "      padding: 0 0 0 0;\n",
       "      width: 32px;\n",
       "    }\n",
       "\n",
       "    .colab-df-convert:hover {\n",
       "      background-color: #E2EBFA;\n",
       "      box-shadow: 0px 1px 2px rgba(60, 64, 67, 0.3), 0px 1px 3px 1px rgba(60, 64, 67, 0.15);\n",
       "      fill: #174EA6;\n",
       "    }\n",
       "\n",
       "    [theme=dark] .colab-df-convert {\n",
       "      background-color: #3B4455;\n",
       "      fill: #D2E3FC;\n",
       "    }\n",
       "\n",
       "    [theme=dark] .colab-df-convert:hover {\n",
       "      background-color: #434B5C;\n",
       "      box-shadow: 0px 1px 3px 1px rgba(0, 0, 0, 0.15);\n",
       "      filter: drop-shadow(0px 1px 2px rgba(0, 0, 0, 0.3));\n",
       "      fill: #FFFFFF;\n",
       "    }\n",
       "  </style>\n",
       "\n",
       "      <script>\n",
       "        const buttonEl =\n",
       "          document.querySelector('#df-a7c9f18d-37a8-46a8-8bee-ed3a4c067a4c button.colab-df-convert');\n",
       "        buttonEl.style.display =\n",
       "          google.colab.kernel.accessAllowed ? 'block' : 'none';\n",
       "\n",
       "        async function convertToInteractive(key) {\n",
       "          const element = document.querySelector('#df-a7c9f18d-37a8-46a8-8bee-ed3a4c067a4c');\n",
       "          const dataTable =\n",
       "            await google.colab.kernel.invokeFunction('convertToInteractive',\n",
       "                                                     [key], {});\n",
       "          if (!dataTable) return;\n",
       "\n",
       "          const docLinkHtml = 'Like what you see? Visit the ' +\n",
       "            '<a target=\"_blank\" href=https://colab.research.google.com/notebooks/data_table.ipynb>data table notebook</a>'\n",
       "            + ' to learn more about interactive tables.';\n",
       "          element.innerHTML = '';\n",
       "          dataTable['output_type'] = 'display_data';\n",
       "          await google.colab.output.renderOutput(dataTable, element);\n",
       "          const docLink = document.createElement('div');\n",
       "          docLink.innerHTML = docLinkHtml;\n",
       "          element.appendChild(docLink);\n",
       "        }\n",
       "      </script>\n",
       "    </div>\n",
       "  </div>\n",
       "  "
      ],
      "text/plain": [
       "   G  C  B  A          Ia          Ib          Ic        Va        Vb  \\\n",
       "0  1  0  0  1 -151.291812   -9.677452   85.800162  0.400750 -0.132935   \n",
       "1  1  0  0  1 -336.186183  -76.283262   18.328897  0.312732 -0.123633   \n",
       "2  1  0  0  1 -502.891583 -174.648023  -80.924663  0.265728 -0.114301   \n",
       "3  1  0  0  1 -593.941905 -217.703359 -124.891924  0.235511 -0.104940   \n",
       "4  1  0  0  1 -643.663617 -224.159427 -132.282815  0.209537 -0.095554   \n",
       "\n",
       "         Vc  \n",
       "0 -0.267815  \n",
       "1 -0.189099  \n",
       "2 -0.151428  \n",
       "3 -0.130570  \n",
       "4 -0.113983  "
      ]
     },
     "execution_count": 97,
     "metadata": {},
     "output_type": "execute_result"
    }
   ],
   "source": [
    "classData.head()"
   ]
  },
  {
   "cell_type": "code",
   "execution_count": 98,
   "metadata": {
    "id": "lxGnnMwY__YD"
   },
   "outputs": [],
   "source": [
    "Xclass = classData.iloc[:, 4:].values\n",
    "yclass = classData.iloc[:, 0:4].values"
   ]
  },
  {
   "cell_type": "code",
   "execution_count": 99,
   "metadata": {
    "colab": {
     "base_uri": "https://localhost:8080/"
    },
    "id": "ZlXg55JAAEbS",
    "outputId": "18d4fb4a-9a19-4fc4-b5b0-91b2f9573cc3"
   },
   "outputs": [
    {
     "name": "stdout",
     "output_type": "stream",
     "text": [
      "[-1.51291812e+02 -9.67745156e+00  8.58001623e+01  4.00749853e-01\n",
      " -1.32934945e-01 -2.67814907e-01]\n"
     ]
    }
   ],
   "source": [
    "print(Xclass[0,:])"
   ]
  },
  {
   "cell_type": "code",
   "execution_count": 100,
   "metadata": {
    "colab": {
     "base_uri": "https://localhost:8080/"
    },
    "id": "c49ZXSXRAKQS",
    "outputId": "3119cbaf-1754-49cb-ccd2-2f188a2a99c7"
   },
   "outputs": [
    {
     "name": "stdout",
     "output_type": "stream",
     "text": [
      "[1 0 0 1]\n"
     ]
    }
   ],
   "source": [
    "print(yclass[0,:])"
   ]
  },
  {
   "cell_type": "code",
   "execution_count": 101,
   "metadata": {
    "colab": {
     "base_uri": "https://localhost:8080/"
    },
    "id": "FLswcewbAM0s",
    "outputId": "d4fc5047-7340-4e2c-cd5c-23390e46211f"
   },
   "outputs": [
    {
     "name": "stdout",
     "output_type": "stream",
     "text": [
      "No Fault : 2365\n",
      "LF Fault : 1129\n",
      "LL Fault : 1004\n",
      "LLG Fault : 1134\n",
      "LLL Fault : 1096\n",
      "LLLG Fault : 1133\n"
     ]
    }
   ],
   "source": [
    "faults = [\"None\", \"LG Fault\", \"LL Fault\", \"LLG Fault\", \"LLL Fault\", \"LLLG Fault\"]\n",
    "yc = []\n",
    "for f in yclass:\n",
    "  if f[0] == 0 and f[1] == 0 and f[2] == 0 and f[3] == 0:\n",
    "    yc.append(faults[0])\n",
    "  elif f[0] == 1 and f[1] == 0 and f[2] == 0 and f[3] == 1:\n",
    "    yc.append(faults[1])\n",
    "  elif f[0] == 0 and f[1] == 1 and f[2] == 1 and f[3] == 0:\n",
    "    yc.append(faults[2])\n",
    "  elif f[0] == 1 and f[1] == 0 and f[2] == 1 and f[3] == 1:\n",
    "    yc.append(faults[3])\n",
    "  elif f[0] == 0 and f[1] == 1 and f[2] == 1 and f[3] == 1:\n",
    "    yc.append(faults[4])\n",
    "  else:\n",
    "    yc.append(faults[5])\n",
    "yc = np.array(yc)\n",
    "print(f\"No Fault : {len(yc[yc==faults[0]])}\")\n",
    "print(f\"LF Fault : {len(yc[yc==faults[1]])}\")\n",
    "print(f\"LL Fault : {len(yc[yc==faults[2]])}\")\n",
    "print(f\"LLG Fault : {len(yc[yc==faults[3]])}\")\n",
    "print(f\"LLL Fault : {len(yc[yc==faults[4]])}\")\n",
    "print(f\"LLLG Fault : {len(yc[yc==faults[5]])}\")\n",
    "yclass = yc"
   ]
  },
  {
   "cell_type": "code",
   "execution_count": 102,
   "metadata": {
    "colab": {
     "base_uri": "https://localhost:8080/"
    },
    "id": "JHlVFp8MZn9R",
    "outputId": "cd079df4-55c4-4226-955b-91aece2d7205"
   },
   "outputs": [
    {
     "data": {
      "text/plain": [
       "array(['LG Fault', 'LG Fault', 'LG Fault', ..., 'None', 'None', 'None'],\n",
       "      dtype='<U10')"
      ]
     },
     "execution_count": 102,
     "metadata": {},
     "output_type": "execute_result"
    }
   ],
   "source": [
    "yc"
   ]
  },
  {
   "cell_type": "code",
   "execution_count": 103,
   "metadata": {
    "id": "Xl2mvKPY3j7T"
   },
   "outputs": [],
   "source": [
    "Xc_train, Xc_test, yc_train, yc_test = train_test_split(Xclass, yclass, test_size = 0.2, random_state = 0)"
   ]
  },
  {
   "cell_type": "code",
   "execution_count": 104,
   "metadata": {
    "colab": {
     "base_uri": "https://localhost:8080/"
    },
    "id": "eaOIB7cb3zvk",
    "outputId": "88d60b75-df84-4bcc-95b9-89af145eedc5"
   },
   "outputs": [
    {
     "data": {
      "text/plain": [
       "array([[ 1.51520694e+01, -3.05197799e+01,  1.22991568e+01,\n",
       "         5.85121212e-01, -1.95849727e-01, -3.89271485e-01],\n",
       "       [ 8.26151276e+02, -1.39184699e+02, -6.84910051e+02,\n",
       "         3.17252940e-02, -4.01255130e-02,  8.40021900e-03],\n",
       "       [-7.79373281e+02,  2.90121627e+01,  7.50358886e+02,\n",
       "        -3.50356460e-02,  3.81934650e-02, -3.15781900e-03],\n",
       "       ...,\n",
       "       [-1.73751503e+02, -6.59470576e+02, -5.77503294e+01,\n",
       "        -4.06884970e-02,  2.88971190e-01, -2.48282692e-01],\n",
       "       [-6.83435357e+00,  6.79602466e+02, -6.70089556e+02,\n",
       "         3.74728951e-01,  1.84094470e-02, -3.93138399e-01],\n",
       "       [ 5.19590442e+01, -6.16080557e+02,  5.66717809e+02,\n",
       "         1.60677187e-01,  2.82198520e-02, -1.88897039e-01]])"
      ]
     },
     "execution_count": 104,
     "metadata": {},
     "output_type": "execute_result"
    }
   ],
   "source": [
    "Xc_train"
   ]
  },
  {
   "cell_type": "code",
   "execution_count": 105,
   "metadata": {
    "colab": {
     "base_uri": "https://localhost:8080/"
    },
    "id": "dbgeonJv35Jp",
    "outputId": "7d8a70f6-d62c-41ac-b504-9b8e6f128f92"
   },
   "outputs": [
    {
     "data": {
      "text/plain": [
       "array([[ 6.04204114e+02,  2.36572840e+02,  4.97966695e+01,\n",
       "         4.06573640e-02, -3.73332069e-01,  3.32674704e-01],\n",
       "       [-2.16679879e+02, -6.33710206e+02,  8.50387822e+02,\n",
       "        -4.12207550e-02,  1.21108330e-02,  2.91099210e-02],\n",
       "       [-4.96863032e+00,  8.50363194e+01, -8.30856473e+01,\n",
       "        -5.97811525e-01,  4.47736430e-01,  1.50075095e-01],\n",
       "       ...,\n",
       "       [ 5.61224100e+02,  3.10108822e+02, -8.71333543e+02,\n",
       "         4.14783870e-02, -2.81906480e-02, -1.32877380e-02],\n",
       "       [-7.28153419e+02,  1.48736832e+02, -1.91137825e+01,\n",
       "         7.56229900e-03,  2.99381914e-01, -3.06944213e-01],\n",
       "       [-6.84411668e+01,  2.51399383e+02, -1.80606300e+02,\n",
       "        -4.07823367e-01, -4.10725490e-02,  4.48895916e-01]])"
      ]
     },
     "execution_count": 105,
     "metadata": {},
     "output_type": "execute_result"
    }
   ],
   "source": [
    "Xc_test"
   ]
  },
  {
   "cell_type": "code",
   "execution_count": 106,
   "metadata": {
    "colab": {
     "base_uri": "https://localhost:8080/"
    },
    "id": "VHK8Bc3H370a",
    "outputId": "e730b871-c3c4-4395-a779-c16579aa09b2"
   },
   "outputs": [
    {
     "data": {
      "text/plain": [
       "array(['None', 'LLL Fault', 'LLLG Fault', ..., 'LLG Fault', 'LL Fault',\n",
       "       'LL Fault'], dtype='<U10')"
      ]
     },
     "execution_count": 106,
     "metadata": {},
     "output_type": "execute_result"
    }
   ],
   "source": [
    "yc_train"
   ]
  },
  {
   "cell_type": "code",
   "execution_count": 107,
   "metadata": {
    "colab": {
     "base_uri": "https://localhost:8080/"
    },
    "id": "_4jq85wR3-bV",
    "outputId": "ec9ec4c0-1748-4a8b-bb9a-031096d47287"
   },
   "outputs": [
    {
     "data": {
      "text/plain": [
       "array(['LLG Fault', 'LLLG Fault', 'None', ..., 'LLLG Fault', 'LLG Fault',\n",
       "       'LL Fault'], dtype='<U10')"
      ]
     },
     "execution_count": 107,
     "metadata": {},
     "output_type": "execute_result"
    }
   ],
   "source": [
    "yc_test"
   ]
  },
  {
   "cell_type": "code",
   "execution_count": 108,
   "metadata": {
    "id": "E8znVjtZasbh"
   },
   "outputs": [],
   "source": [
    "from sklearn import preprocessing\n",
    "le = preprocessing.LabelEncoder()\n",
    "le.fit(yc_train)\n",
    "le.classes_\n",
    "yc_test=le.transform(yc_test)\n",
    "yc_train=le.transform(yc_train)"
   ]
  },
  {
   "cell_type": "code",
   "execution_count": 109,
   "metadata": {
    "id": "UJ-BVjTmAaG8"
   },
   "outputs": [],
   "source": [
    "sc = StandardScaler()\n",
    "Xc_train = sc.fit_transform(Xc_train)\n",
    "Xc_test = sc.transform(Xc_test)"
   ]
  },
  {
   "cell_type": "code",
   "execution_count": 110,
   "metadata": {
    "id": "aLj3xxOx5If7"
   },
   "outputs": [],
   "source": [
    "from sklearn import svm\n",
    "clf = svm.SVC()\n",
    "clf.fit(Xc_train, yc_train)\n",
    "y_pred = clf.predict(Xc_test)"
   ]
  },
  {
   "cell_type": "code",
   "execution_count": 111,
   "metadata": {
    "colab": {
     "base_uri": "https://localhost:8080/",
     "height": 780
    },
    "id": "kJuKpKsO5REE",
    "outputId": "05e1e8ba-67a2-40a0-cf88-8a20f9efc4f4"
   },
   "outputs": [
    {
     "data": {
      "image/png": "[encoded data removed]",
      "text/plain": [
       "<Figure size 576x576 with 2 Axes>"
      ]
     },
     "metadata": {
      "needs_background": "light"
     },
     "output_type": "display_data"
    },
    {
     "name": "stdout",
     "output_type": "stream",
     "text": [
      "              precision    recall  f1-score   support\n",
      "\n",
      "           0       0.93      0.95      0.94       221\n",
      "           1       0.99      0.80      0.89       197\n",
      "           2       0.88      0.93      0.91       219\n",
      "           3       0.44      0.48      0.46       223\n",
      "           4       0.44      0.39      0.42       244\n",
      "           5       0.95      1.00      0.98       469\n",
      "\n",
      "    accuracy                           0.79      1573\n",
      "   macro avg       0.77      0.76      0.76      1573\n",
      "weighted avg       0.79      0.79      0.79      1573\n",
      "\n"
     ]
    }
   ],
   "source": [
    "from sklearn.metrics import plot_confusion_matrix\n",
    "from sklearn.metrics import confusion_matrix\n",
    "from sklearn.metrics import classification_report\n",
    "cf_matrix = confusion_matrix(yc_test, y_pred)\n",
    "plt.figure(figsize=(8, 8))\n",
    "ax = sns.heatmap(cf_matrix, annot=True, cmap='Blues',fmt=\"d\")\n",
    "\n",
    "ax.set_title('Seaborn Confusion Matrix with labels\\n\\n');\n",
    "ax.set_xlabel('\\nPredicted Category')\n",
    "ax.set_ylabel('Actual Category ');\n",
    "\n",
    "\n",
    "## Display the visualization of the Confusion Matrix.\n",
    "plt.show()\n",
    "print(classification_report(yc_test, y_pred))"
   ]
  },
  {
   "cell_type": "code",
   "execution_count": 112,
   "metadata": {
    "id": "2yKDdQuD5Z-Z"
   },
   "outputs": [],
   "source": [
    "# Decision Tree model \n",
    "from sklearn.tree import DecisionTreeClassifier\n",
    "\n",
    "# instantiate the model \n",
    "tree = DecisionTreeClassifier(max_depth = 5)\n",
    "# fit the model \n",
    "tree.fit(Xc_train, yc_train)\n",
    "\n",
    "#predicting the target value from the model for the samples\n",
    "y_test_tree = tree.predict(Xc_test)"
   ]
  },
  {
   "cell_type": "code",
   "execution_count": 113,
   "metadata": {
    "colab": {
     "base_uri": "https://localhost:8080/",
     "height": 780
    },
    "id": "aH0Vz1Ot5g-L",
    "outputId": "97011d5a-9bc0-4448-d125-abc9fec73e3b"
   },
   "outputs": [
    {
     "data": {
      "image/png": "[encoded data removed]",
      "text/plain": [
       "<Figure size 576x576 with 2 Axes>"
      ]
     },
     "metadata": {
      "needs_background": "light"
     },
     "output_type": "display_data"
    },
    {
     "name": "stdout",
     "output_type": "stream",
     "text": [
      "              precision    recall  f1-score   support\n",
      "\n",
      "           0       0.88      0.94      0.91       221\n",
      "           1       0.96      0.93      0.94       197\n",
      "           2       0.87      0.91      0.89       219\n",
      "           3       0.47      0.52      0.49       223\n",
      "           4       0.48      0.35      0.40       244\n",
      "           5       0.97      1.00      0.98       469\n",
      "\n",
      "    accuracy                           0.80      1573\n",
      "   macro avg       0.77      0.78      0.77      1573\n",
      "weighted avg       0.79      0.80      0.80      1573\n",
      "\n"
     ]
    }
   ],
   "source": [
    "cf_matrix = confusion_matrix(yc_test, y_test_tree)\n",
    "plt.figure(figsize=(8, 8))\n",
    "ax = sns.heatmap(cf_matrix, annot=True, cmap='Blues',fmt=\"d\")\n",
    "\n",
    "ax.set_title('Seaborn Confusion Matrix with labels\\n\\n');\n",
    "ax.set_xlabel('\\nPredicted Category')\n",
    "ax.set_ylabel('Actual Category ');\n",
    "\n",
    "\n",
    "## Display the visualization of the Confusion Matrix.\n",
    "plt.show()\n",
    "print(classification_report(yc_test, y_test_tree))"
   ]
  },
  {
   "cell_type": "code",
   "execution_count": 114,
   "metadata": {
    "id": "jtrYay2v5nPq"
   },
   "outputs": [],
   "source": [
    "from xgboost import XGBClassifier\n",
    "model = XGBClassifier()\n",
    "model.fit(Xc_train, yc_train)\n",
    "\n",
    "#predicting the target value from the model for the samples\n",
    "y_test_xgb = model.predict(Xc_test)"
   ]
  },
  {
   "cell_type": "code",
   "execution_count": 115,
   "metadata": {
    "colab": {
     "base_uri": "https://localhost:8080/",
     "height": 780
    },
    "id": "mwLOWksE5vKt",
    "outputId": "910df27e-408f-4a17-b32c-ed0ed3f988ec"
   },
   "outputs": [
    {
     "data": {
      "image/png": "[encoded data removed]",
      "text/plain": [
       "<Figure size 576x576 with 2 Axes>"
      ]
     },
     "metadata": {
      "needs_background": "light"
     },
     "output_type": "display_data"
    },
    {
     "name": "stdout",
     "output_type": "stream",
     "text": [
      "              precision    recall  f1-score   support\n",
      "\n",
      "           0       0.95      0.99      0.97       221\n",
      "           1       1.00      1.00      1.00       197\n",
      "           2       0.94      0.95      0.95       219\n",
      "           3       0.46      0.60      0.52       223\n",
      "           4       0.47      0.31      0.37       244\n",
      "           5       1.00      1.00      1.00       469\n",
      "\n",
      "    accuracy                           0.83      1573\n",
      "   macro avg       0.80      0.81      0.80      1573\n",
      "weighted avg       0.82      0.83      0.82      1573\n",
      "\n"
     ]
    }
   ],
   "source": [
    "cf_matrix = confusion_matrix(yc_test, y_test_xgb)\n",
    "plt.figure(figsize=(8, 8))\n",
    "ax = sns.heatmap(cf_matrix, annot=True, cmap='Blues',fmt=\"d\")\n",
    "\n",
    "ax.set_title('Seaborn Confusion Matrix with labels\\n\\n');\n",
    "ax.set_xlabel('\\nPredicted Category')\n",
    "ax.set_ylabel('Actual Category ');\n",
    "\n",
    "\n",
    "## Display the visualization of the Confusion Matrix.\n",
    "plt.show()\n",
    "print(classification_report(yc_test, y_test_xgb))"
   ]
  },
  {
   "cell_type": "code",
   "execution_count": 116,
   "metadata": {
    "id": "STFDvmAa6Cye"
   },
   "outputs": [],
   "source": [
    "from sklearn.ensemble import RandomForestClassifier"
   ]
  },
  {
   "cell_type": "code",
   "execution_count": 117,
   "metadata": {
    "id": "3uL4u-FS6ELI"
   },
   "outputs": [],
   "source": [
    "forest = RandomForestClassifier(criterion='gini',n_estimators=5,random_state=1,n_jobs=2)\n",
    "#\n",
    "# Fit the model\n",
    "#\n",
    "forest.fit(Xc_train, yc_train)\n",
    "#\n",
    "# Measure model performance\n",
    "#\n",
    "y_pred = forest.predict(Xc_test)"
   ]
  },
  {
   "cell_type": "code",
   "execution_count": 118,
   "metadata": {
    "colab": {
     "base_uri": "https://localhost:8080/",
     "height": 780
    },
    "id": "mtKD3JO16Kn5",
    "outputId": "98ad8d20-1323-4fdc-b272-9ba9ca936569"
   },
   "outputs": [
    {
     "data": {
      "image/png": "[encoded data removed]",
      "text/plain": [
       "<Figure size 576x576 with 2 Axes>"
      ]
     },
     "metadata": {
      "needs_background": "light"
     },
     "output_type": "display_data"
    },
    {
     "name": "stdout",
     "output_type": "stream",
     "text": [
      "              precision    recall  f1-score   support\n",
      "\n",
      "           0       0.98      1.00      0.99       221\n",
      "           1       1.00      1.00      1.00       197\n",
      "           2       0.99      0.98      0.99       219\n",
      "           3       0.51      0.56      0.53       223\n",
      "           4       0.55      0.49      0.52       244\n",
      "           5       1.00      1.00      1.00       469\n",
      "\n",
      "    accuracy                           0.86      1573\n",
      "   macro avg       0.84      0.84      0.84      1573\n",
      "weighted avg       0.86      0.86      0.86      1573\n",
      "\n"
     ]
    }
   ],
   "source": [
    "cf_matrix = confusion_matrix(yc_test, y_pred)\n",
    "plt.figure(figsize=(8, 8))\n",
    "ax = sns.heatmap(cf_matrix, annot=True, cmap='Blues',fmt=\"d\")\n",
    "\n",
    "ax.set_title('Seaborn Confusion Matrix with labels\\n\\n');\n",
    "ax.set_xlabel('\\nPredicted Category')\n",
    "ax.set_ylabel('Actual Category ');\n",
    "\n",
    "\n",
    "## Display the visualization of the Confusion Matrix.\n",
    "plt.show()\n",
    "print(classification_report(yc_test, y_pred))"
   ]
  },
  {
   "cell_type": "code",
   "execution_count": 119,
   "metadata": {
    "colab": {
     "base_uri": "https://localhost:8080/"
    },
    "id": "O8zHHRPzz8RF",
    "outputId": "ff6422d5-05c0-4027-a377-5c7a5e18beb5"
   },
   "outputs": [
    {
     "data": {
      "text/plain": [
       "array(['LG Fault', 'LL Fault', 'LLG Fault', 'LLL Fault', 'LLLG Fault',\n",
       "       'None'], dtype='<U10')"
      ]
     },
     "execution_count": 119,
     "metadata": {},
     "output_type": "execute_result"
    }
   ],
   "source": [
    "le.classes_"
   ]
  },
  {
   "cell_type": "code",
   "execution_count": 120,
   "metadata": {
    "id": "-96GmBMPAcSY"
   },
   "outputs": [],
   "source": [
    "#ANN Model"
   ]
  },
  {
   "cell_type": "code",
   "execution_count": 143,
   "metadata": {
    "id": "8WKn5h2yAe8C"
   },
   "outputs": [],
   "source": [
    "\n",
    "\n",
    "classANN = Sequential()\n",
    "classANN.add(Dense(units=12, activation='relu'))\n",
    "classANN.add(Dense(units=12, activation='relu'))\n",
    "classANN.add(Dense(units=6, activation='sigmoid'))\n",
    "classANN.compile(optimizer = 'adam', loss = 'SparseCategoricalCrossentropy', metrics = ['accuracy'])\n",
    "\n"
   ]
  },
  {
   "cell_type": "code",
   "execution_count": 144,
   "metadata": {
    "colab": {
     "base_uri": "https://localhost:8080/"
    },
    "id": "mQgpS6c9AhWZ",
    "outputId": "df130b95-7986-4d03-affd-75d59356dec2"
   },
   "outputs": [
    {
     "name": "stdout",
     "output_type": "stream",
     "text": [
      "Epoch 1/100\n",
      "393/393 [==============================] - 1s 2ms/step - loss: 1.5409 - accuracy: 0.3655\n",
      "Epoch 2/100\n",
      "393/393 [==============================] - 1s 2ms/step - loss: 0.9660 - accuracy: 0.6045\n",
      "Epoch 3/100\n",
      "393/393 [==============================] - 1s 2ms/step - loss: 0.6695 - accuracy: 0.7333\n",
      "Epoch 4/100\n",
      "393/393 [==============================] - 1s 2ms/step - loss: 0.5356 - accuracy: 0.7729\n",
      "Epoch 5/100\n",
      "393/393 [==============================] - 1s 2ms/step - loss: 0.4656 - accuracy: 0.7901\n",
      "Epoch 6/100\n",
      "393/393 [==============================] - 1s 2ms/step - loss: 0.4214 - accuracy: 0.7982\n",
      "Epoch 7/100\n",
      "393/393 [==============================] - 1s 2ms/step - loss: 0.3933 - accuracy: 0.8119\n",
      "Epoch 8/100\n",
      "393/393 [==============================] - 1s 2ms/step - loss: 0.3709 - accuracy: 0.8184\n",
      "Epoch 9/100\n",
      "393/393 [==============================] - 1s 2ms/step - loss: 0.3547 - accuracy: 0.8222\n",
      "Epoch 10/100\n",
      "393/393 [==============================] - 1s 2ms/step - loss: 0.3421 - accuracy: 0.8268\n",
      "Epoch 11/100\n",
      "393/393 [==============================] - 1s 2ms/step - loss: 0.3318 - accuracy: 0.8316\n",
      "Epoch 12/100\n",
      "393/393 [==============================] - 1s 3ms/step - loss: 0.3235 - accuracy: 0.8316\n",
      "Epoch 13/100\n",
      "393/393 [==============================] - 1s 3ms/step - loss: 0.3144 - accuracy: 0.8364\n",
      "Epoch 14/100\n",
      "393/393 [==============================] - 1s 2ms/step - loss: 0.3085 - accuracy: 0.8397\n",
      "Epoch 15/100\n",
      "393/393 [==============================] - 1s 2ms/step - loss: 0.3020 - accuracy: 0.8387\n",
      "Epoch 16/100\n",
      "393/393 [==============================] - 1s 2ms/step - loss: 0.2980 - accuracy: 0.8443\n",
      "Epoch 17/100\n",
      "393/393 [==============================] - 1s 2ms/step - loss: 0.2943 - accuracy: 0.8406\n",
      "Epoch 18/100\n",
      "393/393 [==============================] - 1s 2ms/step - loss: 0.2910 - accuracy: 0.8429\n",
      "Epoch 19/100\n",
      "393/393 [==============================] - 1s 2ms/step - loss: 0.2871 - accuracy: 0.8486\n",
      "Epoch 20/100\n",
      "393/393 [==============================] - 1s 2ms/step - loss: 0.2855 - accuracy: 0.8437\n",
      "Epoch 21/100\n",
      "393/393 [==============================] - 1s 2ms/step - loss: 0.2832 - accuracy: 0.8406\n",
      "Epoch 22/100\n",
      "393/393 [==============================] - 1s 2ms/step - loss: 0.2799 - accuracy: 0.8462\n",
      "Epoch 23/100\n",
      "393/393 [==============================] - 1s 2ms/step - loss: 0.2775 - accuracy: 0.8456\n",
      "Epoch 24/100\n",
      "393/393 [==============================] - 1s 2ms/step - loss: 0.2760 - accuracy: 0.8441\n",
      "Epoch 25/100\n",
      "393/393 [==============================] - 1s 2ms/step - loss: 0.2746 - accuracy: 0.8434\n",
      "Epoch 26/100\n",
      "393/393 [==============================] - 1s 2ms/step - loss: 0.2731 - accuracy: 0.8453\n",
      "Epoch 27/100\n",
      "393/393 [==============================] - 1s 2ms/step - loss: 0.2701 - accuracy: 0.8488\n",
      "Epoch 28/100\n",
      "393/393 [==============================] - 1s 2ms/step - loss: 0.2703 - accuracy: 0.8464\n",
      "Epoch 29/100\n",
      "393/393 [==============================] - 1s 2ms/step - loss: 0.2672 - accuracy: 0.8414\n",
      "Epoch 30/100\n",
      "393/393 [==============================] - 1s 2ms/step - loss: 0.2668 - accuracy: 0.8429\n",
      "Epoch 31/100\n",
      "393/393 [==============================] - 1s 2ms/step - loss: 0.2651 - accuracy: 0.8475\n",
      "Epoch 32/100\n",
      "393/393 [==============================] - 1s 2ms/step - loss: 0.2643 - accuracy: 0.8443\n",
      "Epoch 33/100\n",
      "393/393 [==============================] - 1s 2ms/step - loss: 0.2629 - accuracy: 0.8449\n",
      "Epoch 34/100\n",
      "393/393 [==============================] - 1s 2ms/step - loss: 0.2635 - accuracy: 0.8437\n",
      "Epoch 35/100\n",
      "393/393 [==============================] - 1s 2ms/step - loss: 0.2617 - accuracy: 0.8497\n",
      "Epoch 36/100\n",
      "393/393 [==============================] - 1s 2ms/step - loss: 0.2590 - accuracy: 0.8424\n",
      "Epoch 37/100\n",
      "393/393 [==============================] - 1s 2ms/step - loss: 0.2592 - accuracy: 0.8414\n",
      "Epoch 38/100\n",
      "393/393 [==============================] - 1s 2ms/step - loss: 0.2572 - accuracy: 0.8478\n",
      "Epoch 39/100\n",
      "393/393 [==============================] - 1s 2ms/step - loss: 0.2565 - accuracy: 0.8465\n",
      "Epoch 40/100\n",
      "393/393 [==============================] - 1s 2ms/step - loss: 0.2559 - accuracy: 0.8469\n",
      "Epoch 41/100\n",
      "393/393 [==============================] - 1s 2ms/step - loss: 0.2542 - accuracy: 0.8480\n",
      "Epoch 42/100\n",
      "393/393 [==============================] - 1s 2ms/step - loss: 0.2546 - accuracy: 0.8465\n",
      "Epoch 43/100\n",
      "393/393 [==============================] - 1s 2ms/step - loss: 0.2535 - accuracy: 0.8443\n",
      "Epoch 44/100\n",
      "393/393 [==============================] - 1s 2ms/step - loss: 0.2524 - accuracy: 0.8435\n",
      "Epoch 45/100\n",
      "393/393 [==============================] - 1s 2ms/step - loss: 0.2519 - accuracy: 0.8491\n",
      "Epoch 46/100\n",
      "393/393 [==============================] - 1s 2ms/step - loss: 0.2504 - accuracy: 0.8451\n",
      "Epoch 47/100\n",
      "393/393 [==============================] - 1s 2ms/step - loss: 0.2500 - accuracy: 0.8510\n",
      "Epoch 48/100\n",
      "393/393 [==============================] - 1s 2ms/step - loss: 0.2478 - accuracy: 0.8529\n",
      "Epoch 49/100\n",
      "393/393 [==============================] - 1s 2ms/step - loss: 0.2472 - accuracy: 0.8505\n",
      "Epoch 50/100\n",
      "393/393 [==============================] - 1s 2ms/step - loss: 0.2485 - accuracy: 0.8456\n",
      "Epoch 51/100\n",
      "393/393 [==============================] - 1s 2ms/step - loss: 0.2479 - accuracy: 0.8467\n",
      "Epoch 52/100\n",
      "393/393 [==============================] - 1s 2ms/step - loss: 0.2456 - accuracy: 0.8491\n",
      "Epoch 53/100\n",
      "393/393 [==============================] - 1s 2ms/step - loss: 0.2474 - accuracy: 0.8489\n",
      "Epoch 54/100\n",
      "393/393 [==============================] - 1s 2ms/step - loss: 0.2450 - accuracy: 0.8494\n",
      "Epoch 55/100\n",
      "393/393 [==============================] - 1s 2ms/step - loss: 0.2450 - accuracy: 0.8441\n",
      "Epoch 56/100\n",
      "393/393 [==============================] - 1s 2ms/step - loss: 0.2442 - accuracy: 0.8446\n",
      "Epoch 57/100\n",
      "393/393 [==============================] - 1s 2ms/step - loss: 0.2429 - accuracy: 0.8507\n",
      "Epoch 58/100\n",
      "393/393 [==============================] - 1s 2ms/step - loss: 0.2411 - accuracy: 0.8456\n",
      "Epoch 59/100\n",
      "393/393 [==============================] - 1s 2ms/step - loss: 0.2438 - accuracy: 0.8467\n",
      "Epoch 60/100\n",
      "393/393 [==============================] - 1s 2ms/step - loss: 0.2425 - accuracy: 0.8464\n",
      "Epoch 61/100\n",
      "393/393 [==============================] - 1s 2ms/step - loss: 0.2407 - accuracy: 0.8476\n",
      "Epoch 62/100\n",
      "393/393 [==============================] - 1s 2ms/step - loss: 0.2406 - accuracy: 0.8523\n",
      "Epoch 63/100\n",
      "393/393 [==============================] - 1s 2ms/step - loss: 0.2393 - accuracy: 0.8508\n",
      "Epoch 64/100\n",
      "393/393 [==============================] - 1s 2ms/step - loss: 0.2395 - accuracy: 0.8507\n",
      "Epoch 65/100\n",
      "393/393 [==============================] - 1s 2ms/step - loss: 0.2403 - accuracy: 0.8467\n",
      "Epoch 66/100\n",
      "393/393 [==============================] - 1s 2ms/step - loss: 0.2377 - accuracy: 0.8497\n",
      "Epoch 67/100\n",
      "393/393 [==============================] - 1s 2ms/step - loss: 0.2380 - accuracy: 0.8502\n",
      "Epoch 68/100\n",
      "393/393 [==============================] - 1s 2ms/step - loss: 0.2369 - accuracy: 0.8521\n",
      "Epoch 69/100\n",
      "393/393 [==============================] - 1s 2ms/step - loss: 0.2382 - accuracy: 0.8489\n",
      "Epoch 70/100\n",
      "393/393 [==============================] - 1s 2ms/step - loss: 0.2373 - accuracy: 0.8510\n",
      "Epoch 71/100\n",
      "393/393 [==============================] - 1s 2ms/step - loss: 0.2364 - accuracy: 0.8524\n",
      "Epoch 72/100\n",
      "393/393 [==============================] - 1s 2ms/step - loss: 0.2363 - accuracy: 0.8516\n",
      "Epoch 73/100\n",
      "393/393 [==============================] - 1s 2ms/step - loss: 0.2359 - accuracy: 0.8465\n",
      "Epoch 74/100\n",
      "393/393 [==============================] - 1s 2ms/step - loss: 0.2351 - accuracy: 0.8534\n",
      "Epoch 75/100\n",
      "393/393 [==============================] - 1s 2ms/step - loss: 0.2336 - accuracy: 0.8503\n",
      "Epoch 76/100\n",
      "393/393 [==============================] - 1s 4ms/step - loss: 0.2340 - accuracy: 0.8538\n",
      "Epoch 77/100\n",
      "393/393 [==============================] - 1s 2ms/step - loss: 0.2330 - accuracy: 0.8518\n",
      "Epoch 78/100\n",
      "393/393 [==============================] - 1s 2ms/step - loss: 0.2337 - accuracy: 0.8491\n",
      "Epoch 79/100\n",
      "393/393 [==============================] - 1s 2ms/step - loss: 0.2319 - accuracy: 0.8502\n",
      "Epoch 80/100\n",
      "393/393 [==============================] - 1s 2ms/step - loss: 0.2343 - accuracy: 0.8497\n",
      "Epoch 81/100\n",
      "393/393 [==============================] - 1s 2ms/step - loss: 0.2331 - accuracy: 0.8497\n",
      "Epoch 82/100\n",
      "393/393 [==============================] - 1s 2ms/step - loss: 0.2327 - accuracy: 0.8491\n",
      "Epoch 83/100\n",
      "393/393 [==============================] - 1s 2ms/step - loss: 0.2316 - accuracy: 0.8538\n",
      "Epoch 84/100\n",
      "393/393 [==============================] - 1s 2ms/step - loss: 0.2300 - accuracy: 0.8575\n",
      "Epoch 85/100\n",
      "393/393 [==============================] - 1s 2ms/step - loss: 0.2309 - accuracy: 0.8511\n",
      "Epoch 86/100\n",
      "393/393 [==============================] - 1s 2ms/step - loss: 0.2298 - accuracy: 0.8480\n",
      "Epoch 87/100\n",
      "393/393 [==============================] - 1s 2ms/step - loss: 0.2289 - accuracy: 0.8535\n",
      "Epoch 88/100\n",
      "393/393 [==============================] - 1s 2ms/step - loss: 0.2296 - accuracy: 0.8575\n",
      "Epoch 89/100\n",
      "393/393 [==============================] - 1s 2ms/step - loss: 0.2293 - accuracy: 0.8505\n",
      "Epoch 90/100\n",
      "393/393 [==============================] - 1s 2ms/step - loss: 0.2294 - accuracy: 0.8494\n",
      "Epoch 91/100\n",
      "393/393 [==============================] - 1s 2ms/step - loss: 0.2279 - accuracy: 0.8580\n",
      "Epoch 92/100\n",
      "393/393 [==============================] - 1s 2ms/step - loss: 0.2288 - accuracy: 0.8518\n",
      "Epoch 93/100\n",
      "393/393 [==============================] - 1s 2ms/step - loss: 0.2275 - accuracy: 0.8523\n",
      "Epoch 94/100\n",
      "393/393 [==============================] - 1s 2ms/step - loss: 0.2270 - accuracy: 0.8589\n",
      "Epoch 95/100\n",
      "393/393 [==============================] - 1s 2ms/step - loss: 0.2271 - accuracy: 0.8523\n",
      "Epoch 96/100\n",
      "393/393 [==============================] - 1s 2ms/step - loss: 0.2273 - accuracy: 0.8515\n",
      "Epoch 97/100\n",
      "393/393 [==============================] - 1s 2ms/step - loss: 0.2271 - accuracy: 0.8529\n",
      "Epoch 98/100\n",
      "393/393 [==============================] - 1s 2ms/step - loss: 0.2256 - accuracy: 0.8531\n",
      "Epoch 99/100\n",
      "393/393 [==============================] - 1s 2ms/step - loss: 0.2272 - accuracy: 0.8558\n",
      "Epoch 100/100\n",
      "393/393 [==============================] - 1s 2ms/step - loss: 0.2271 - accuracy: 0.8497\n"
     ]
    },
    {
     "data": {
      "text/plain": [
       "<keras.callbacks.History at 0x7ffb5da97410>"
      ]
     },
     "execution_count": 144,
     "metadata": {},
     "output_type": "execute_result"
    }
   ],
   "source": [
    "classANN.fit(Xc_train, yc_train, batch_size = 16, epochs = 100)"
   ]
  },
  {
   "cell_type": "code",
   "execution_count": 123,
   "metadata": {
    "colab": {
     "base_uri": "https://localhost:8080/"
    },
    "id": "rVr1DQQ1AkP2",
    "outputId": "e7d4c64b-78be-4c97-e94d-0609b013e869"
   },
   "outputs": [
    {
     "name": "stdout",
     "output_type": "stream",
     "text": [
      "50/50 [==============================] - 0s 2ms/step - loss: 0.2330 - accuracy: 0.8385\n",
      "Accuracy : 83.8525116443634 %\n"
     ]
    }
   ],
   "source": [
    "\n",
    "#Results\n",
    "\n",
    "loss, acc = classANN.evaluate(Xc_test, yc_test)\n",
    "print(f'Accuracy : {acc*100} %')\n",
    "\n"
   ]
  },
  {
   "cell_type": "code",
   "execution_count": 124,
   "metadata": {
    "colab": {
     "base_uri": "https://localhost:8080/"
    },
    "id": "XN3LYajj0bkx",
    "outputId": "8f21cfdb-1fdf-4afd-81a6-c0c78387a8b3"
   },
   "outputs": [
    {
     "name": "stdout",
     "output_type": "stream",
     "text": [
      "50/50 [==============================] - 0s 1ms/step\n"
     ]
    }
   ],
   "source": [
    "y_pred = classANN.predict(Xc_test)"
   ]
  },
  {
   "cell_type": "code",
   "execution_count": 125,
   "metadata": {
    "colab": {
     "base_uri": "https://localhost:8080/"
    },
    "id": "nIVaSTtO0u10",
    "outputId": "710a4266-5f59-4707-b7a0-c61212687604"
   },
   "outputs": [
    {
     "data": {
      "text/plain": [
       "array([2, 4, 5, ..., 4, 2, 1])"
      ]
     },
     "execution_count": 125,
     "metadata": {},
     "output_type": "execute_result"
    }
   ],
   "source": [
    "yc_test"
   ]
  },
  {
   "cell_type": "code",
   "execution_count": 126,
   "metadata": {
    "colab": {
     "base_uri": "https://localhost:8080/"
    },
    "id": "FEFRagK30xQM",
    "outputId": "226d38ba-6b24-4a71-ab13-0e7d653e47c1"
   },
   "outputs": [
    {
     "data": {
      "text/plain": [
       "array([[2.2473691e-04, 1.2533265e-08, 9.9780905e-01, 3.5121590e-01,\n",
       "        8.5045666e-01, 2.8730611e-07],\n",
       "       [1.4747086e-07, 8.1945952e-09, 1.5407841e-18, 9.9986261e-01,\n",
       "        9.9980891e-01, 5.7064216e-23],\n",
       "       [3.1133089e-09, 9.5762953e-11, 3.8921562e-22, 8.8693039e-11,\n",
       "        4.1097704e-07, 1.0000000e+00],\n",
       "       ...,\n",
       "       [4.4702350e-10, 2.2127610e-05, 3.5912235e-28, 9.8461628e-01,\n",
       "        9.8189592e-01, 8.2387830e-22],\n",
       "       [6.0486887e-02, 1.5703273e-12, 9.9992913e-01, 3.5756652e-04,\n",
       "        7.4511663e-05, 1.2454839e-08],\n",
       "       [1.4706519e-19, 1.0000000e+00, 1.6812881e-18, 1.8337596e-09,\n",
       "        3.2989286e-07, 9.9866003e-01]], dtype=float32)"
      ]
     },
     "execution_count": 126,
     "metadata": {},
     "output_type": "execute_result"
    }
   ],
   "source": [
    "y_pred"
   ]
  },
  {
   "cell_type": "code",
   "execution_count": 127,
   "metadata": {
    "id": "OK2FPUNa07Eh"
   },
   "outputs": [],
   "source": [
    "classes_x=np.argmax(y_pred,axis=1)"
   ]
  },
  {
   "cell_type": "code",
   "execution_count": 128,
   "metadata": {
    "colab": {
     "base_uri": "https://localhost:8080/",
     "height": 780
    },
    "id": "ZC2eHIRH0m2N",
    "outputId": "4d03514a-c9e5-4ecd-86a0-b09b41f21536"
   },
   "outputs": [
    {
     "data": {
      "image/png": "[encoded data removed]",
      "text/plain": [
       "<Figure size 576x576 with 2 Axes>"
      ]
     },
     "metadata": {
      "needs_background": "light"
     },
     "output_type": "display_data"
    },
    {
     "name": "stdout",
     "output_type": "stream",
     "text": [
      "              precision    recall  f1-score   support\n",
      "\n",
      "           0       0.95      1.00      0.98       221\n",
      "           1       0.98      1.00      0.99       197\n",
      "           2       0.97      0.95      0.96       219\n",
      "           3       0.48      0.87      0.62       223\n",
      "           4       0.51      0.13      0.21       244\n",
      "           5       1.00      0.99      0.99       469\n",
      "\n",
      "    accuracy                           0.84      1573\n",
      "   macro avg       0.81      0.82      0.79      1573\n",
      "weighted avg       0.84      0.84      0.81      1573\n",
      "\n"
     ]
    }
   ],
   "source": [
    "\n",
    "\n",
    "from sklearn.metrics import plot_confusion_matrix\n",
    "from sklearn.metrics import confusion_matrix\n",
    "from sklearn.metrics import classification_report\n",
    "cf_matrix = confusion_matrix(yc_test, classes_x)\n",
    "plt.figure(figsize=(8, 8))\n",
    "ax = sns.heatmap(cf_matrix, annot=True, cmap='Blues',fmt=\"d\")\n",
    "\n",
    "ax.set_title('Seaborn Confusion Matrix with labels\\n\\n');\n",
    "ax.set_xlabel('\\nPredicted Category')\n",
    "ax.set_ylabel('Actual Category ');\n",
    "\n",
    "\n",
    "## Display the visualization of the Confusion Matrix.\n",
    "plt.show()\n",
    "print(classification_report(yc_test, classes_x))"
   ]
  },
  {
   "cell_type": "code",
   "execution_count": 131,
   "metadata": {
    "colab": {
     "base_uri": "https://localhost:8080/"
    },
    "id": "7Ld15MHA__B4",
    "outputId": "c7330c88-7935-45f8-c6dd-0313b79d9fdd"
   },
   "outputs": [
    {
     "name": "stdout",
     "output_type": "stream",
     "text": [
      "Looking in indexes: https://pypi.org/simple, https://us-python.pkg.dev/colab-wheels/public/simple/\n",
      "Collecting scikeras\n",
      "  Downloading scikeras-0.9.0-py3-none-any.whl (27 kB)\n",
      "Requirement already satisfied: packaging>=0.21 in /usr/local/lib/python3.7/dist-packages (from scikeras) (21.3)\n",
      "Requirement already satisfied: scikit-learn>=1.0.0 in /usr/local/lib/python3.7/dist-packages (from scikeras) (1.0.2)\n",
      "Requirement already satisfied: importlib-metadata>=3 in /usr/local/lib/python3.7/dist-packages (from scikeras) (4.13.0)\n",
      "Requirement already satisfied: zipp>=0.5 in /usr/local/lib/python3.7/dist-packages (from importlib-metadata>=3->scikeras) (3.10.0)\n",
      "Requirement already satisfied: typing-extensions>=3.6.4 in /usr/local/lib/python3.7/dist-packages (from importlib-metadata>=3->scikeras) (4.1.1)\n",
      "Requirement already satisfied: pyparsing!=3.0.5,>=2.0.2 in /usr/local/lib/python3.7/dist-packages (from packaging>=0.21->scikeras) (3.0.9)\n",
      "Requirement already satisfied: joblib>=0.11 in /usr/local/lib/python3.7/dist-packages (from scikit-learn>=1.0.0->scikeras) (1.2.0)\n",
      "Requirement already satisfied: threadpoolctl>=2.0.0 in /usr/local/lib/python3.7/dist-packages (from scikit-learn>=1.0.0->scikeras) (3.1.0)\n",
      "Requirement already satisfied: numpy>=1.14.6 in /usr/local/lib/python3.7/dist-packages (from scikit-learn>=1.0.0->scikeras) (1.21.6)\n",
      "Requirement already satisfied: scipy>=1.1.0 in /usr/local/lib/python3.7/dist-packages (from scikit-learn>=1.0.0->scikeras) (1.7.3)\n",
      "Installing collected packages: scikeras\n",
      "Successfully installed scikeras-0.9.0\n"
     ]
    }
   ],
   "source": [
    "!pip install scikeras"
   ]
  },
  {
   "cell_type": "code",
   "execution_count": 132,
   "metadata": {
    "id": "vOr73a7R_7L9"
   },
   "outputs": [],
   "source": [
    "from scikeras.wrappers import KerasClassifier"
   ]
  },
  {
   "cell_type": "code",
   "execution_count": 136,
   "metadata": {
    "colab": {
     "base_uri": "https://localhost:8080/"
    },
    "id": "BJo465lEBtBe",
    "outputId": "6ed1f99e-7c50-4de1-cf8e-db22346ad33f"
   },
   "outputs": [
    {
     "data": {
      "text/plain": [
       "array([[-4.65138522e-03,  4.53287364e-02, -6.31571996e-02,\n",
       "         2.04006119e+00, -6.18967252e-01, -1.28967221e+00],\n",
       "       [ 1.73800495e+00, -2.02836365e-01, -1.95865452e+00,\n",
       "         1.33014078e-01, -1.23717313e-01,  9.81694844e-04],\n",
       "       [-1.71190908e+00,  1.81285683e-01,  1.94340012e+00,\n",
       "        -9.70495231e-02,  1.25360643e-01, -3.65302194e-02],\n",
       "       ...,\n",
       "       [-4.10563012e-01, -1.39104686e+00, -2.53600200e-01,\n",
       "        -1.16529705e-01,  9.22909397e-01, -8.32089398e-01],\n",
       "       [-5.18953023e-02,  1.66708082e+00, -1.91836215e+00,\n",
       "         1.31503243e+00,  6.24415027e-02, -1.30222238e+00],\n",
       "       [ 7.44385910e-02, -1.29195427e+00,  1.44413653e+00,\n",
       "         5.77392734e-01,  9.36415476e-02, -6.39351710e-01]])"
      ]
     },
     "execution_count": 136,
     "metadata": {},
     "output_type": "execute_result"
    }
   ],
   "source": [
    "Xc_train"
   ]
  },
  {
   "cell_type": "code",
   "execution_count": 137,
   "metadata": {
    "colab": {
     "base_uri": "https://localhost:8080/"
    },
    "id": "mdnnHbKBBwMC",
    "outputId": "c716be06-70af-4b8e-ce32-8b20c28d5bc2"
   },
   "outputs": [
    {
     "data": {
      "text/plain": [
       "array([5, 3, 4, ..., 2, 1, 1])"
      ]
     },
     "execution_count": 137,
     "metadata": {},
     "output_type": "execute_result"
    }
   ],
   "source": [
    "yc_train"
   ]
  },
  {
   "cell_type": "code",
   "execution_count": 155,
   "metadata": {
    "colab": {
     "base_uri": "https://localhost:8080/"
    },
    "id": "QPjSrmF87sEb",
    "outputId": "dd9c11dd-34f7-47ee-da1d-b08903f943a8"
   },
   "outputs": [
    {
     "data": {
      "text/plain": [
       "VotingClassifier(estimators=[('xgb', XGBClassifier(objective='multi:softprob')),\n",
       "                             ('tree', DecisionTreeClassifier(max_depth=5)),\n",
       "                             ('rf',\n",
       "                              RandomForestClassifier(n_estimators=5, n_jobs=2,\n",
       "                                                     random_state=1)),\n",
       "                             ('svm', SVC())])"
      ]
     },
     "execution_count": 155,
     "metadata": {},
     "output_type": "execute_result"
    }
   ],
   "source": [
    "from sklearn.ensemble import VotingClassifier\n",
    "\n",
    "model1 = VotingClassifier(estimators=[('xgb', model), ('tree', tree),('rf',forest),('svm',clf)], voting='hard')\n",
    "model1._estimator_type = \"classifier\"\n",
    "model1.fit(Xc_train,yc_train)"
   ]
  },
  {
   "cell_type": "code",
   "execution_count": 156,
   "metadata": {
    "id": "SHo-SKl29jgI"
   },
   "outputs": [],
   "source": [
    "pred = model1.predict(Xc_test)"
   ]
  },
  {
   "cell_type": "code",
   "execution_count": 157,
   "metadata": {
    "colab": {
     "base_uri": "https://localhost:8080/",
     "height": 554
    },
    "id": "z8Sjs0glFN_S",
    "outputId": "37527cc2-4c85-4566-9ec8-0065f97cd2e3"
   },
   "outputs": [
    {
     "data": {
      "image/png": "[encoded data removed]",
      "text/plain": [
       "<Figure size 576x576 with 2 Axes>"
      ]
     },
     "metadata": {
      "needs_background": "light"
     },
     "output_type": "display_data"
    }
   ],
   "source": [
    "#Generate the confusion matrix\n",
    "cf_matrix = confusion_matrix(yc_test, pred)\n",
    "plt.figure(figsize=(8, 8))\n",
    "ax = sns.heatmap(cf_matrix, annot=True, cmap='Blues',fmt=\"d\")\n",
    "\n",
    "ax.set_title('Seaborn Confusion Matrix with labels\\n\\n');\n",
    "ax.set_xlabel('\\nPredicted Category')\n",
    "ax.set_ylabel('Actual Category ');\n",
    "\n",
    "\n",
    "## Display the visualization of the Confusion Matrix.\n",
    "plt.show()"
   ]
  },
  {
   "cell_type": "code",
   "execution_count": 158,
   "metadata": {
    "colab": {
     "base_uri": "https://localhost:8080/"
    },
    "id": "Ei6m7kBcFUF9",
    "outputId": "9a5348a2-aaa3-4cab-c602-bf2824c50a26"
   },
   "outputs": [
    {
     "name": "stdout",
     "output_type": "stream",
     "text": [
      "              precision    recall  f1-score   support\n",
      "\n",
      "           0       0.94      1.00      0.97       221\n",
      "           1       1.00      1.00      1.00       197\n",
      "           2       0.94      0.95      0.95       219\n",
      "           3       0.46      0.60      0.52       223\n",
      "           4       0.47      0.31      0.37       244\n",
      "           5       1.00      1.00      1.00       469\n",
      "\n",
      "    accuracy                           0.83      1573\n",
      "   macro avg       0.80      0.81      0.80      1573\n",
      "weighted avg       0.82      0.83      0.82      1573\n",
      "\n"
     ]
    }
   ],
   "source": [
    "plt.show()\n",
    "print(classification_report(yc_test, pred))"
   ]
  },
  {
   "cell_type": "code",
   "execution_count": null,
   "metadata": {
    "id": "z1l0LPEiFpR0"
   },
   "outputs": [],
   "source": []
  }
 ],
 "metadata": {
  "colab": {
   "provenance": []
  },
  "kernelspec": {
   "display_name": "Python 3 (ipykernel)",
   "language": "python",
   "name": "python3"
  },
  "language_info": {
   "codemirror_mode": {
    "name": "ipython",
    "version": 3
   },
   "file_extension": ".py",
   "mimetype": "text/x-python",
   "name": "python",
   "nbconvert_exporter": "python",
   "pygments_lexer": "ipython3",
   "version": "3.9.7"
  }
 },
 "nbformat": 4,
 "nbformat_minor": 1
}
